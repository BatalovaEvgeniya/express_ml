{
 "cells": [
  {
   "cell_type": "code",
   "execution_count": 3,
   "metadata": {},
   "outputs": [
    {
     "name": "stdout",
     "output_type": "stream",
     "text": [
      "Populating the interactive namespace from numpy and matplotlib\n"
     ]
    }
   ],
   "source": [
    "%pylab inline\n",
    "%matplotlib inline\n",
    "import seaborn as sns"
   ]
  },
  {
   "cell_type": "markdown",
   "metadata": {},
   "source": [
    "# SVM, support vector machine"
   ]
  },
  {
   "cell_type": "markdown",
   "metadata": {},
   "source": [
    "<img src='imgs/svm.jpg'>"
   ]
  },
  {
   "cell_type": "markdown",
   "metadata": {},
   "source": [
    "Дискриминантная функция: $$f(\\overline{x}, \\overline{w}, w_0) = \\langle \\overline{w}, \\overline{x} \\rangle - w_0$$\n",
    "\n",
    "Решающее правило: $$a(\\overline{x}, \\overline{w}, w_0) = \n",
    "sign \\big( { \\langle \\overline{w}, \\overline{x} \\rangle - w_0 } \\big).$$\n",
    "\n",
    "Критерий - минимизация эмпирического риска:\n",
    "\n",
    "$$\n",
    "  \\sum_{i=1}^{l} \\Bigl[ a(\\overline{x_i}, \\overline{w}, w_0) \\ne y_i \\Bigr] =   \\sum_{i=1}^{l} \\Bigl[ M_i(\\overline{w}, w_0) < 0 \\Bigr] \\longrightarrow  \\displaystyle \\min_{\\overline{w}, w_0}\n",
    "$$\n",
    "\n",
    "$$ где\\;M_i(\\overline{w}, w_0) = ( \\langle \\overline{w}, \\overline{x_i} \\rangle - w_0 ) \\cdot y_i$$"
   ]
  },
  {
   "cell_type": "markdown",
   "metadata": {},
   "source": [
    "SVM предлагает минимизировать следующую функцию:"
   ]
  },
  {
   "cell_type": "markdown",
   "metadata": {},
   "source": [
    "$$\n",
    "Q(\\overline{w}, w_0) = \\sum_{i=1}^{l} \\Bigl[ M_i(\\overline{w}, w_0) < 0 \\Bigr] \\leqslant \\sum_{i=1}^{l} \\bigl(1 - M_i(\\overline{w}, w_0) \\bigr)_{\\!+} + \\frac{1}{C} \\sum_{j=1}^{n}w_j^2 \\longrightarrow  \\displaystyle \\min_{\\overline{w}, w_0}\n",
    "$$"
   ]
  },
  {
   "cell_type": "markdown",
   "metadata": {
    "ExecuteTime": {
     "end_time": "2017-12-16T10:47:25.531648Z",
     "start_time": "2017-12-16T10:47:25.525358Z"
    }
   },
   "source": [
    "<img src='../lesson5/imgs/2.jpg'>"
   ]
  },
  {
   "cell_type": "markdown",
   "metadata": {},
   "source": [
    "\n",
    "<img src=\"imgs/3.png\" width=400>"
   ]
  },
  {
   "cell_type": "markdown",
   "metadata": {
    "ExecuteTime": {
     "end_time": "2017-12-22T14:56:43.225257Z",
     "start_time": "2017-12-22T14:56:43.212858Z"
    },
    "collapsed": true
   },
   "source": [
    "Задача\n",
    "$$\n",
    "Q_{new}(\\overline{w}, w_0) ≡ \\sum_{i=1}^{l} \\bigl(1 - M_i(\\overline{w}, w_0) \\bigr)_{\\!+} + \\frac{1}{C} \\sum_{j=1}^{n}w_j^2 \\longrightarrow  \\displaystyle \\min_{\\overline{w}, w_0}\n",
    "$$\n",
    "\n",
    "Эквивалентна задаче (<a href=\"http://www.ccas.ru/voron/download/SVM.pdf\">доказательство</a>):\n",
    "\n",
    "$$ \n",
    "\\begin{equation*}\n",
    "\\begin{cases}\n",
    "    -\\sum_{i=1}^{l}\\lambda _i + \\frac{1}{2}\\sum_{i=1}^{l}\\sum_{j=1}^{l}\\lambda _i\\lambda _j y_i y_j \\langle \\overline{x_i}, \\overline{x_k} \\rangle  \\longrightarrow  \\displaystyle \\min_{\\lambda}\\\\\n",
    "    0 \\leqslant \\lambda _i \\leqslant C, \\;\\;\\;\\; i = 1,... ,l\\\\\n",
    "    \\sum_{i=1}^{l}\\lambda _i y_i = 0\n",
    "\\end{cases}\n",
    "\\end{equation*}\n",
    "$$"
   ]
  },
  {
   "cell_type": "markdown",
   "metadata": {},
   "source": [
    "Новое решающее правило:\n",
    "\n",
    "$$a(\\overline{x}, \\overline{w}, w_0) = \n",
    "sign \\big( \\sum_{i=1} ^{l} \\bigl(\\lambda _i \\cdot \\langle \\overline{x_i}, \\overline{x} \\rangle \\cdot y_i\\bigr)  - w_0 \\bigr).$$\n",
    "\n",
    "$$где \\; w_0 = \\sum_{i=1} ^{l} \\bigl(\\lambda _i \\cdot \\langle \\overline{x_i}, \\overline{x_k} \\rangle \\cdot y_i - y_k\\bigr) \\; для \\;такого \\;k, \\;что\\;  \\lambda_k > 0, \\;M_j=1$$"
   ]
  },
  {
   "cell_type": "markdown",
   "metadata": {
    "ExecuteTime": {
     "end_time": "2017-12-16T10:47:04.423040Z",
     "start_time": "2017-12-16T10:47:04.418578Z"
    }
   },
   "source": [
    "# Kernel trick\n",
    "$$\\varphi: X \\rightarrow H$$\n",
    "\n",
    "$$K(\\overline{x}, \\overline{x}') =  \\langle \\varphi(\\overline{x}),\\varphi(\\overline{x}') \\rangle $$"
   ]
  },
  {
   "cell_type": "markdown",
   "metadata": {},
   "source": [
    "<img src=\"imgs/4.jpg\" width=700>\n",
    "Код, который генерит эти изображения:\n",
    "http://scikit-learn.org/stable/auto_examples/exercises/plot_iris_exercise.html#sphx-glr-auto-examples-exercises-plot-iris-exercise-py"
   ]
  },
  {
   "cell_type": "code",
   "execution_count": 4,
   "metadata": {
    "ExecuteTime": {
     "end_time": "2017-12-16T11:15:34.976941Z",
     "start_time": "2017-12-16T11:15:34.971364Z"
    }
   },
   "outputs": [
    {
     "data": {
      "text/html": [
       "<iframe width=\"854\" height=\"480\" src=\"https://www.youtube.com/embed/3liCbRZPrZA\" \n",
       "            frameborder=\"0\" allowfullscreen></iframe>"
      ],
      "text/plain": [
       "<IPython.core.display.HTML object>"
      ]
     },
     "execution_count": 4,
     "metadata": {},
     "output_type": "execute_result"
    }
   ],
   "source": [
    "from IPython.display import HTML\n",
    "\n",
    "HTML(data=\"\"\"<iframe width=\"854\" height=\"480\" src=\"https://www.youtube.com/embed/3liCbRZPrZA\" \n",
    "            frameborder=\"0\" allowfullscreen></iframe>\"\"\")"
   ]
  },
  {
   "cell_type": "code",
   "execution_count": 6,
   "metadata": {
    "ExecuteTime": {
     "end_time": "2017-12-16T11:35:41.437942Z",
     "start_time": "2017-12-16T11:35:41.432513Z"
    }
   },
   "outputs": [
    {
     "data": {
      "text/html": [
       "<iframe width=\"854\" height=\"480\" src=\"https://www.youtube.com/embed/MxUy7hKIU8c\" \n",
       "frameborder=\"0\" allowfullscreen></iframe>"
      ],
      "text/plain": [
       "<IPython.core.display.HTML object>"
      ]
     },
     "execution_count": 6,
     "metadata": {},
     "output_type": "execute_result"
    }
   ],
   "source": [
    "HTML(data=\"\"\"<iframe width=\"854\" height=\"480\" src=\"https://www.youtube.com/embed/MxUy7hKIU8c\" \n",
    "frameborder=\"0\" allowfullscreen></iframe>\"\"\")"
   ]
  },
  {
   "cell_type": "code",
   "execution_count": 3,
   "metadata": {
    "ExecuteTime": {
     "end_time": "2017-12-23T08:42:48.006671Z",
     "start_time": "2017-12-23T08:42:47.532662Z"
    }
   },
   "outputs": [
    {
     "name": "stdout",
     "output_type": "stream",
     "text": [
      "Populating the interactive namespace from numpy and matplotlib\n"
     ]
    },
    {
     "data": {
      "image/png": "[encoded data removed]",
      "text/plain": [
       "<matplotlib.figure.Figure at 0x1111bf490>"
      ]
     },
     "metadata": {},
     "output_type": "display_data"
    }
   ],
   "source": [
    "from sklearn.datasets import load_iris\n",
    "%matplotlib inline\n",
    "%pylab inline\n",
    "\n",
    "figure(figsize=(8,8))\n",
    "iris = load_iris()\n",
    "X = iris.data\n",
    "y = iris.target\n",
    "X = X[y != 2, :]\n",
    "y = y[y != 2]\n",
    "X = X[:, [0, 1]]\n",
    "\n",
    "from sklearn.svm import SVC\n",
    "svc = SVC(probability=True, kernel='rbf', gamma=10)\n",
    "svc.fit(X, y)\n",
    "\n",
    "X_0 = X[y==0, :]\n",
    "X_1 = X[y==1, :]\n",
    "\n",
    "\n",
    "xx, yy = np.meshgrid(np.arange(4., 7.5, 0.01),\n",
    "                     np.arange(1.5, 5., 0.01))\n",
    "\n",
    "Z = svc.predict_proba(np.c_[xx.ravel(), yy.ravel()])[:,1]\n",
    "Z = Z.reshape(xx.shape)\n",
    "cs = plt.contourf(xx, yy, Z, alpha=0.5, cmap=plt.cm.RdBu)\n",
    "\n",
    "scatter(X_0[:,0], X_0[:,1], c='r')\n",
    "_ = scatter(X_1[:,0], X_1[:,1], c='b')"
   ]
  },
  {
   "cell_type": "markdown",
   "metadata": {},
   "source": [
    "SVM можно использовать и для регрессии:\n",
    "<a href='http://scikit-learn.org/stable/modules/generated/sklearn.svm.SVR.html'>sklearn.svm.SVR</a>"
   ]
  },
  {
   "cell_type": "markdown",
   "metadata": {
    "collapsed": true
   },
   "source": [
    "<img src=\"http://scikit-learn.sourceforge.net/stable/_images/plot_svm_regression_001.png\">"
   ]
  },
  {
   "cell_type": "markdown",
   "metadata": {},
   "source": [
    "Имплиментации:\n",
    "\n",
    "- Если используете линейное ядро:\n",
    "http://scikit-learn.org/stable/modules/generated/sklearn.svm.LinearSVC.html / http://scikit-learn.org/stable/modules/generated/sklearn.svm.LinearSVR.html\n",
    "\n",
    "- Если другие ядра: http://scikit-learn.org/stable/modules/generated/sklearn.svm.SVC.html#sklearn.svm.SVC / http://scikit-learn.org/stable/modules/generated/sklearn.svm.SVR.html \n"
   ]
  },
  {
   "cell_type": "markdown",
   "metadata": {
    "collapsed": true
   },
   "source": [
    "Лекция Воронцова: http://www.ccas.ru/voron/download/SVM.pdf"
   ]
  }
 ],
 "metadata": {
  "kernelspec": {
   "display_name": "Python 2",
   "language": "python",
   "name": "python2"
  },
  "language_info": {
   "codemirror_mode": {
    "name": "ipython",
    "version": 2
   },
   "file_extension": ".py",
   "mimetype": "text/x-python",
   "name": "python",
   "nbconvert_exporter": "python",
   "pygments_lexer": "ipython2",
   "version": "2.7.13"
  }
 },
 "nbformat": 4,
 "nbformat_minor": 1
}
