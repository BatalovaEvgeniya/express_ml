{
 "cells": [
  {
   "cell_type": "markdown",
   "metadata": {},
   "source": [
    "# Задание\n",
    "\n",
    "1) Постройте двумерный график вашей любимой функции (если такой нет, полюбите функцию из https://docs.scipy.org/doc/numpy/reference/routines.math.html). Отметьте на этом графике максимальное и минимальное значение"
   ]
  },
  {
   "cell_type": "code",
   "execution_count": 1,
   "metadata": {
    "ExecuteTime": {
     "end_time": "2017-09-15T17:18:06.076959Z",
     "start_time": "2017-09-15T17:18:04.953004Z"
    }
   },
   "outputs": [
    {
     "name": "stdout",
     "output_type": "stream",
     "text": [
      "Populating the interactive namespace from numpy and matplotlib\n"
     ]
    }
   ],
   "source": [
    "%matplotlib inline\n",
    "%pylab inline\n",
    "import seaborn as sns"
   ]
  },
  {
   "cell_type": "code",
   "execution_count": 2,
   "metadata": {
    "ExecuteTime": {
     "end_time": "2017-09-15T17:18:06.370353Z",
     "start_time": "2017-09-15T17:18:06.220992Z"
    }
   },
   "outputs": [
    {
     "data": {
      "image/png": "[encoded data removed]",
      "text/plain": [
       "<matplotlib.figure.Figure at 0x10d8fcb90>"
      ]
     },
     "metadata": {},
     "output_type": "display_data"
    }
   ],
   "source": [
    "x = np.arange(0, np.pi * 3, 0.01)\n",
    "y = np.sin(x)\n",
    "plt.axhline(np.max(y), color='r')\n",
    "plt.axis([ -1, 11, -2, 3,])\n",
    "_ = plt.plot(x, y)"
   ]
  },
  {
   "cell_type": "markdown",
   "metadata": {
    "ExecuteTime": {
     "end_time": "2017-07-01T15:12:21.496924Z",
     "start_time": "2017-07-01T18:12:21.477749+03:00"
    }
   },
   "source": [
    "2) Нормализуйте вектор y-координат. Для этого отнимите среднее и поделите на стандартное отклонение. Постройте гистограмму значений получившегося вектора. На гистограмме отметьте среднее и точки $-\\sigma$ , $+\\sigma$"
   ]
  },
  {
   "cell_type": "code",
   "execution_count": 3,
   "metadata": {
    "ExecuteTime": {
     "end_time": "2017-07-10T14:03:48.554268Z",
     "start_time": "2017-07-10T17:03:47.242789+03:00"
    }
   },
   "outputs": [
    {
     "data": {
      "text/plain": [
       "<matplotlib.lines.Line2D at 0x111a55310>"
      ]
     },
     "execution_count": 3,
     "metadata": {},
     "output_type": "execute_result"
    },
    {
     "data": {
      "image/png": "[encoded data removed]",
      "text/plain": [
       "<matplotlib.figure.Figure at 0x11197c9d0>"
      ]
     },
     "metadata": {},
     "output_type": "display_data"
    }
   ],
   "source": [
    "y = np.sin(x) * 5\n",
    "y -= y.mean()\n",
    "y /= y.std()\n",
    "hist(y);\n",
    "plt.axvline(np.mean(y), linestyle='--', color='r')\n",
    "plt.axvline(np.mean(y) - np.std(y), linestyle='--', color='g')\n",
    "plt.axvline(np.mean(y) + np.std(y), linestyle='--', color='g')"
   ]
  },
  {
   "cell_type": "markdown",
   "metadata": {},
   "source": [
    "3) Николай Иванович играет в игру: он берет из мешка с числами от 1 до 1000 \n",
    "    случайное число, записывает его на бумажке и возвращает число в мешок. Так он поступает 1000 раз.\n",
    "    После этого Николай Иванович считает, сколько разных чисел у него на бумажке. Посчитайте и вы ;)\n",
    "    \n",
    "Постройте график, где по X будут числа в порядке убывания количества упоминаний на бумажке, а по Y - количество упоминаний. Уместно построить график в логарифмической шкале по X"
   ]
  },
  {
   "cell_type": "code",
   "execution_count": 5,
   "metadata": {
    "ExecuteTime": {
     "end_time": "2017-09-15T17:24:32.584737Z",
     "start_time": "2017-09-15T17:24:32.581104Z"
    }
   },
   "outputs": [],
   "source": [
    "a = [1,2,3,1]"
   ]
  },
  {
   "cell_type": "code",
   "execution_count": 7,
   "metadata": {
    "ExecuteTime": {
     "end_time": "2017-09-15T17:25:06.620338Z",
     "start_time": "2017-09-15T17:25:06.616720Z"
    }
   },
   "outputs": [
    {
     "data": {
      "text/plain": [
       "3"
      ]
     },
     "execution_count": 7,
     "metadata": {},
     "output_type": "execute_result"
    }
   ],
   "source": [
    "len(set(a)) "
   ]
  },
  {
   "cell_type": "code",
   "execution_count": 20,
   "metadata": {
    "ExecuteTime": {
     "end_time": "2017-09-15T17:31:48.803506Z",
     "start_time": "2017-09-15T17:31:48.800317Z"
    }
   },
   "outputs": [],
   "source": [
    "d = {}\n",
    "d['key1'] = 1\n",
    "d['key2'] = 2"
   ]
  },
  {
   "cell_type": "code",
   "execution_count": 21,
   "metadata": {
    "ExecuteTime": {
     "end_time": "2017-09-15T17:31:50.043873Z",
     "start_time": "2017-09-15T17:31:50.040158Z"
    }
   },
   "outputs": [
    {
     "data": {
      "text/plain": [
       "[('key2', 2), ('key1', 1)]"
      ]
     },
     "execution_count": 21,
     "metadata": {},
     "output_type": "execute_result"
    }
   ],
   "source": [
    "d.items() "
   ]
  },
  {
   "cell_type": "code",
   "execution_count": 22,
   "metadata": {
    "ExecuteTime": {
     "end_time": "2017-09-15T17:32:08.333712Z",
     "start_time": "2017-09-15T17:32:08.329878Z"
    }
   },
   "outputs": [
    {
     "data": {
      "text/plain": [
       "['key2', 'key1']"
      ]
     },
     "execution_count": 22,
     "metadata": {},
     "output_type": "execute_result"
    }
   ],
   "source": [
    "d.keys() "
   ]
  },
  {
   "cell_type": "code",
   "execution_count": 23,
   "metadata": {
    "ExecuteTime": {
     "end_time": "2017-09-15T17:32:18.188066Z",
     "start_time": "2017-09-15T17:32:18.184408Z"
    }
   },
   "outputs": [
    {
     "data": {
      "text/plain": [
       "[2, 1]"
      ]
     },
     "execution_count": 23,
     "metadata": {},
     "output_type": "execute_result"
    }
   ],
   "source": [
    "d.values() "
   ]
  },
  {
   "cell_type": "code",
   "execution_count": 25,
   "metadata": {
    "ExecuteTime": {
     "end_time": "2017-09-15T17:33:08.753767Z",
     "start_time": "2017-09-15T17:33:08.748928Z"
    }
   },
   "outputs": [
    {
     "data": {
      "text/plain": [
       "[100, 10, 1]"
      ]
     },
     "execution_count": 25,
     "metadata": {},
     "output_type": "execute_result"
    }
   ],
   "source": [
    "sorted([10, 1, 100], reverse=True) "
   ]
  },
  {
   "cell_type": "code",
   "execution_count": 28,
   "metadata": {
    "ExecuteTime": {
     "end_time": "2017-09-15T17:35:04.280966Z",
     "start_time": "2017-09-15T17:35:03.866976Z"
    }
   },
   "outputs": [
    {
     "name": "stdout",
     "output_type": "stream",
     "text": [
      "6276\n"
     ]
    },
    {
     "data": {
      "image/png": "[encoded data removed]",
      "text/plain": [
       "<matplotlib.figure.Figure at 0x110eac190>"
      ]
     },
     "metadata": {},
     "output_type": "display_data"
    }
   ],
   "source": [
    "bag = np.arange(1, 10001)\n",
    "paper = np.random.choice(bag, size=10000)\n",
    "\n",
    "print len(set(paper)) \n",
    "\n",
    "from collections import defaultdict\n",
    "uniq_numbers = defaultdict(int)\n",
    "\n",
    "for number in paper:\n",
    "    uniq_numbers[number] += 1\n",
    "    \n",
    "uniq_numbers_counts = sorted(uniq_numbers.values(), reverse=True)\n",
    "# print uniq_numbers_counts\n",
    "plot(uniq_numbers_counts) \n",
    "xscale('log')"
   ]
  },
  {
   "cell_type": "markdown",
   "metadata": {},
   "source": [
    "Проверьте, что выборки i.i.d. (independent, identically distributed)."
   ]
  },
  {
   "cell_type": "code",
   "execution_count": 10,
   "metadata": {
    "ExecuteTime": {
     "end_time": "2017-07-10T14:08:33.535948Z",
     "start_time": "2017-07-10T17:08:33.527199+03:00"
    }
   },
   "outputs": [
    {
     "data": {
      "text/plain": [
       "array([[ 1.        ,  0.00300843],\n",
       "       [ 0.00300843,  1.        ]])"
      ]
     },
     "execution_count": 10,
     "metadata": {},
     "output_type": "execute_result"
    }
   ],
   "source": [
    "# Посчитаем корелляцию между двумя бутстрапированными выборками:\n",
    "np.corrcoef(np.random.choice(bag, size=1000),\n",
    "            np.random.choice(bag, size=1000))"
   ]
  },
  {
   "cell_type": "code",
   "execution_count": 12,
   "metadata": {
    "ExecuteTime": {
     "end_time": "2017-07-10T14:20:21.462370Z",
     "start_time": "2017-07-10T17:20:21.457139+03:00"
    },
    "collapsed": true
   },
   "outputs": [],
   "source": [
    "# Корреляция 0.003 -т.е. данные не кореллируют"
   ]
  },
  {
   "cell_type": "code",
   "execution_count": 13,
   "metadata": {
    "ExecuteTime": {
     "end_time": "2017-07-10T14:21:39.793901Z",
     "start_time": "2017-07-10T17:21:39.783093+03:00"
    }
   },
   "outputs": [
    {
     "data": {
      "text/plain": [
       "WilcoxonResult(statistic=233204.5, pvalue=0.069703845556884844)"
      ]
     },
     "execution_count": 13,
     "metadata": {},
     "output_type": "execute_result"
    }
   ],
   "source": [
    "# Посчитаем какой-нибудь непараметрический критерий на одинаковость распределений. \n",
    "# Например, подойдет критерий Уилкоксона\n",
    "import scipy\n",
    "scipy.stats.wilcoxon(np.random.choice(bag, size=1000), \n",
    "                     np.random.choice(bag, size=1000)) "
   ]
  },
  {
   "cell_type": "code",
   "execution_count": 15,
   "metadata": {
    "ExecuteTime": {
     "end_time": "2017-07-10T14:23:24.589666Z",
     "start_time": "2017-07-10T17:23:24.585972+03:00"
    },
    "collapsed": true
   },
   "outputs": [],
   "source": [
    "# pvalue ~ 0.07. Значит, с вероятностью 7% мы можем получить \n",
    "# такие же или более значимые различия между выборками,\n",
    "# если они сгенерированны из одного распределения"
   ]
  },
  {
   "cell_type": "markdown",
   "metadata": {},
   "source": [
    "4) постройте трехмерный график вашей любимой функции от 2-х переменных"
   ]
  },
  {
   "cell_type": "code",
   "execution_count": 15,
   "metadata": {
    "ExecuteTime": {
     "end_time": "2017-07-01T15:26:49.023599Z",
     "start_time": "2017-07-01T18:26:48.656919+03:00"
    }
   },
   "outputs": [
    {
     "data": {
      "text/plain": [
       "<matplotlib.legend.Legend at 0x113826050>"
      ]
     },
     "execution_count": 15,
     "metadata": {},
     "output_type": "execute_result"
    },
    {
     "data": {
      "image/png": "[encoded data removed]",
      "text/plain": [
       "<matplotlib.figure.Figure at 0x1133bb550>"
      ]
     },
     "metadata": {},
     "output_type": "display_data"
    }
   ],
   "source": [
    "from mpl_toolkits.mplot3d import Axes3D\n",
    "fig = plt.figure(figsize=plt.figaspect(1)) \n",
    "ax = fig.gca(projection='3d')\n",
    "theta = np.linspace(-4 * np.pi, 4 * np.pi, 100)\n",
    "z = np.linspace(-2, 2, 100)\n",
    "r = z**2 + 1\n",
    "x = r * np.sin(theta)\n",
    "y = r * np.cos(theta) \n",
    "ax.plot(x, y, z, label='parametric curve')\n",
    "ax.legend()"
   ]
  },
  {
   "cell_type": "code",
   "execution_count": null,
   "metadata": {
    "collapsed": true
   },
   "outputs": [],
   "source": []
  }
 ],
 "metadata": {
  "kernelspec": {
   "display_name": "Python 2",
   "language": "python",
   "name": "python2"
  },
  "language_info": {
   "codemirror_mode": {
    "name": "ipython",
    "version": 2
   },
   "file_extension": ".py",
   "mimetype": "text/x-python",
   "name": "python",
   "nbconvert_exporter": "python",
   "pygments_lexer": "ipython2",
   "version": "2.7.13"
  }
 },
 "nbformat": 4,
 "nbformat_minor": 2
}
