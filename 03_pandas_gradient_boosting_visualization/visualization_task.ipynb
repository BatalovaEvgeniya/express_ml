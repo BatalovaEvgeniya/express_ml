{
 "cells": [
  {
   "cell_type": "markdown",
   "metadata": {},
   "source": [
    "# Задание\n",
    "\n",
    "<b>1. (2 балла)</b> Постройте двумерный график вашей любимой функции (если такой нет, полюбите функцию из https://docs.scipy.org/doc/numpy/reference/routines.math.html). Отметьте на этом графике максимальное и минимальное значение"
   ]
  },
  {
   "cell_type": "code",
   "execution_count": null,
   "metadata": {
    "collapsed": true
   },
   "outputs": [],
   "source": []
  },
  {
   "cell_type": "markdown",
   "metadata": {
    "ExecuteTime": {
     "end_time": "2017-07-01T15:12:21.496924Z",
     "start_time": "2017-07-01T18:12:21.477749+03:00"
    }
   },
   "source": [
    "<b>2. (2 балла)</b> Нормализуйте вектор y-координат. Для этого отнимите среднее и поделите на стандартное отклонение. Постройте гистограмму значений получившегося вектора. На гистограмме отметьте среднее и точки $-\\sigma$ , $+\\sigma$"
   ]
  },
  {
   "cell_type": "code",
   "execution_count": null,
   "metadata": {
    "collapsed": true
   },
   "outputs": [],
   "source": []
  },
  {
   "cell_type": "markdown",
   "metadata": {},
   "source": [
    "<b>3. (3 балла)</b> Николай Иванович играет в игру: он берет из мешка с числами от 1 до 1000 \n",
    "    случайное число, записывает его на бумажке и возвращает число в мешок. Так он поступает 1000 раз.\n",
    "    После этого Николай Иванович считает, сколько разных чисел у него на бумажке. Посчитайте и вы ;)\n",
    "    \n",
    "Постройте график, где по X будут числа в порядке убывания количества упоминаний на бумажке, а по Y - количество упоминаний. Уместно построить график в логарифмической шкале по X\n",
    "\n",
    "<b>+3 балла </b>Проверьте, что выборки i.i.d. (independent, identically distributed)."
   ]
  },
  {
   "cell_type": "code",
   "execution_count": null,
   "metadata": {
    "collapsed": true
   },
   "outputs": [],
   "source": []
  },
  {
   "cell_type": "markdown",
   "metadata": {},
   "source": [
    "<b>4. (2 балла)</b> постройте трехмерный график вашей любимой функции от 2-х переменных"
   ]
  },
  {
   "cell_type": "code",
   "execution_count": null,
   "metadata": {
    "collapsed": true
   },
   "outputs": [],
   "source": []
  }
 ],
 "metadata": {
  "kernelspec": {
   "display_name": "Python 3",
   "language": "python",
   "name": "python3"
  },
  "language_info": {
   "codemirror_mode": {
    "name": "ipython",
    "version": 3
   },
   "file_extension": ".py",
   "mimetype": "text/x-python",
   "name": "python",
   "nbconvert_exporter": "python",
   "pygments_lexer": "ipython3",
   "version": "3.6.4"
  }
 },
 "nbformat": 4,
 "nbformat_minor": 2
}
