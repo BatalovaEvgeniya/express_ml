{
 "cells": [
  {
   "cell_type": "markdown",
   "metadata": {},
   "source": [
    "# Regression metric"
   ]
  },
  {
   "cell_type": "markdown",
   "metadata": {},
   "source": [
    "### MSE\n",
    "Mean Squared Error (Diviation)"
   ]
  },
  {
   "cell_type": "markdown",
   "metadata": {},
   "source": [
    "$$ {MSE}={\\frac  {1}{l}}\\sum _{{j=1}}^{l}({ {f(x_{j})}}-y_{j})^{2} $$"
   ]
  },
  {
   "cell_type": "markdown",
   "metadata": {},
   "source": [
    "Полезные свойства:\n",
    "1. Если нет ограничений на функцию f, она будет проходить через мат. ожидание точек обучающей выборки. \n",
    "2. В предположении о том, что шум в данных описывается Гауссовским распределением с одинаковой дисперсией вокруг линейной функции, оптимизация MSE равнозначна максимизации правдоподобия (см. https://habrahabr.ru/company/ods/blog/323890/)"
   ]
  },
  {
   "cell_type": "markdown",
   "metadata": {},
   "source": [
    "### RMSE\n",
    "Root Mean Squared Error (Diviation)"
   ]
  },
  {
   "cell_type": "markdown",
   "metadata": {
    "ExecuteTime": {
     "end_time": "2017-12-01T22:19:01.412341Z",
     "start_time": "2017-12-01T22:19:01.388832Z"
    }
   },
   "source": [
    "$$ {RMSE}=\\sqrt{{\\frac {1}{l}}{\\sum _{{j=1}}^{l}({ {f(x_{j})}}-y_{j})^{2}}} $$\n",
    "\n",
    "Полезные свойства:\n",
    "1. Оптимизация RMSE эквивалентна оптимизации MSE\n",
    "2. Значение метрики в тех же единицах измерения, что и таргет"
   ]
  },
  {
   "cell_type": "markdown",
   "metadata": {},
   "source": [
    "### MAE\n",
    "Mean Absolute Error\n",
    "\n",
    "$$ {MAE}={\\frac  {1}{l}}\\sum _{{j=1}}^{l}\\left|{f(x_{j})}-y_{j}\\right| $$\n",
    "\n",
    "Полезные свойства:\n",
    "1. Оптимизирует модуль ошибки. Т.е. если мы, например, предсказываем кассовые сборы. То ошибка - это на сколько рублей в среднем мы ошибаемся. \n",
    "2. Если нет ограничений на функцию f, она будет проходить через медиану точек обучающей выборки. \n",
    "3. Не чувствительна к выбросам"
   ]
  },
  {
   "cell_type": "markdown",
   "metadata": {},
   "source": [
    "### Quantile\n",
    "\n",
    "$$Quantile = (\\tau -1)\\sum _{y_{j}<f(x_{j})}(f(x_{j})-y_{j})+\\tau \\sum _{y_{j}\\geq f(x_{j})}(y_{j}-f(x_{j}))$$\n",
    "\n",
    "<img src=\"../imgs/quantile.png\">"
   ]
  },
  {
   "cell_type": "markdown",
   "metadata": {
    "ExecuteTime": {
     "end_time": "2017-12-01T22:32:52.913139Z",
     "start_time": "2017-12-01T22:32:52.907824Z"
    }
   },
   "source": [
    "### MAPE\n",
    "Mean Absolute Percentage Error"
   ]
  },
  {
   "cell_type": "markdown",
   "metadata": {},
   "source": [
    "$$ {MAPE}={\\frac  {100\\%}{l}}\\sum _{{j=1}}^{l}{\\left| \\frac{  y_{j}-f(x_{j})  }{y_{j}}\\right|}$$\n",
    "Полезные свойства: Иногда нам интересно не на сколько \"рублей\" у нас отличается прогноз от реальности, а на сколько процентов. \n",
    "\n",
    "Минусы: \n",
    "Не понятно, что делать, если в знаменателе 0"
   ]
  },
  {
   "cell_type": "markdown",
   "metadata": {},
   "source": [
    "### SMAPE\n",
    "Symmetric Mean Percentage Error\n",
    "\n",
    "$$ {SMAPE}={\\frac  {100\\%}{l}}\\sum _{{j=1}}^{l}{\\frac{ \\left| y_{j}-f(x_{j}) \\right| }{\\left(\\left|y_{j}\\right| + \\left|f(x_{j})\\right|\\right)\\big{/}2}}$$\n",
    "\n",
    "Полезные свойства: максимальная ошибка – 200%\n",
    "\n",
    "Минусы: Не симметрична \n",
    "\n",
    "Over-forecasting: y = 100 and f(x) = 110 give SMAPE = 4.76%<br>\n",
    "Under-forecasting: y = 100 and f(x) = 90 give SMAPE = 5.26%.\n"
   ]
  },
  {
   "cell_type": "markdown",
   "metadata": {
    "ExecuteTime": {
     "end_time": "2017-12-01T22:54:52.142337Z",
     "start_time": "2017-12-01T22:54:52.133690Z"
    }
   },
   "source": [
    "### RMSPE\n",
    "Root Mean Squared Percentage Error\n",
    "\n",
    "$$ {RMSPE}=\\sqrt{{\\frac  {100\\%}{l}}\\sum _{{j=1}}^{l}{\\left({\\frac{ y_{j}-f(x_{j})  }{y_{j}}}\\right)^{2}}}$$"
   ]
  },
  {
   "cell_type": "markdown",
   "metadata": {
    "ExecuteTime": {
     "end_time": "2017-12-02T11:33:46.343969Z",
     "start_time": "2017-12-02T11:33:46.258136Z"
    }
   },
   "source": [
    "### R^2"
   ]
  },
  {
   "cell_type": "markdown",
   "metadata": {
    "ExecuteTime": {
     "end_time": "2017-12-02T11:32:22.758348Z",
     "start_time": "2017-12-02T11:32:22.751836Z"
    },
    "collapsed": true
   },
   "source": [
    "$$ R^2 = 1 - \\frac{\\sum_{j=1}^{l} (y_j - f(x_{j}))^2}{\\sum_{j=1}^{l} (y_j - \\bar{y})^2}$$\n",
    "\n",
    "$$\\bar{y} =  \\frac{1}{l} \\sum_{j=1}^{l} y_j.$$\n"
   ]
  },
  {
   "cell_type": "code",
   "execution_count": null,
   "metadata": {
    "collapsed": true
   },
   "outputs": [],
   "source": []
  }
 ],
 "metadata": {
  "kernelspec": {
   "display_name": "Python 3",
   "language": "python",
   "name": "python3"
  },
  "language_info": {
   "codemirror_mode": {
    "name": "ipython",
    "version": 3
   },
   "file_extension": ".py",
   "mimetype": "text/x-python",
   "name": "python",
   "nbconvert_exporter": "python",
   "pygments_lexer": "ipython3",
   "version": "3.6.4"
  }
 },
 "nbformat": 4,
 "nbformat_minor": 2
}
