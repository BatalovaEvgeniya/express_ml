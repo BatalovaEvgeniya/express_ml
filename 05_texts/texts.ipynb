{
 "cells": [
  {
   "cell_type": "markdown",
   "metadata": {
    "ExecuteTime": {
     "end_time": "2017-06-03T23:56:59.069892Z",
     "start_time": "2017-06-04T02:56:59.064845+03:00"
    }
   },
   "source": [
    "# Embeddings"
   ]
  },
  {
   "cell_type": "markdown",
   "metadata": {},
   "source": [
    "### One-Hot:"
   ]
  },
  {
   "cell_type": "markdown",
   "metadata": {},
   "source": [
    "### TF-IDF:"
   ]
  },
  {
   "cell_type": "markdown",
   "metadata": {
    "ExecuteTime": {
     "end_time": "2017-06-04T00:44:17.891537Z",
     "start_time": "2017-06-04T03:44:17.828373+03:00"
    }
   },
   "source": [
    "https://ru.wikipedia.org/wiki/TF-IDF"
   ]
  },
  {
   "cell_type": "markdown",
   "metadata": {
    "ExecuteTime": {
     "end_time": "2017-06-04T00:54:23.235725Z",
     "start_time": "2017-06-04T03:54:23.230214+03:00"
    }
   },
   "source": [
    "$${\\displaystyle \\mathrm {tf} (t,d)={\\frac {n_{t}}{\\sum _{k}n_{k}}}}$$"
   ]
  },
  {
   "cell_type": "markdown",
   "metadata": {
    "ExecuteTime": {
     "end_time": "2017-06-04T00:57:25.472440Z",
     "start_time": "2017-06-04T03:57:25.464400+03:00"
    }
   },
   "source": [
    "где ${\\displaystyle n_{t}}$ есть число вхождений слова ${\\displaystyle t}$ в документ, <br>а в знаменателе — общее число слов в данном документе.\n",
    "\n"
   ]
  },
  {
   "cell_type": "markdown",
   "metadata": {
    "ExecuteTime": {
     "end_time": "2017-06-04T00:54:50.960493Z",
     "start_time": "2017-06-04T03:54:50.953559+03:00"
    }
   },
   "source": [
    "$${\\displaystyle \\mathrm {idf} (t,D)=\\log {\\frac {|D|}{|\\{\\,d_{i}\\in D\\mid t\\in d_{i}\\,\\}|}}} $$"
   ]
  },
  {
   "cell_type": "markdown",
   "metadata": {},
   "source": [
    "где\n",
    "<br>\n",
    "$|D|$ — число документов в корпусе;<br>\n",
    "${\\displaystyle |\\{\\,d_{i}\\in D\\mid t\\in d_{i}\\,\\}|}$ — число документов из коллекции ${\\displaystyle D}$ D, в которых встречается ${\\displaystyle t}$ t (когда ${\\displaystyle n_{t}\\neq 0} {\\displaystyle n_{t}\\neq 0}$)."
   ]
  },
  {
   "cell_type": "markdown",
   "metadata": {
    "ExecuteTime": {
     "end_time": "2017-06-04T00:58:07.016786Z",
     "start_time": "2017-06-04T03:58:07.010155+03:00"
    }
   },
   "source": [
    "$$\\operatorname {tf-idf}(t,d,D)=\\operatorname {tf}(t,d)\\times \\operatorname {idf}(t,D)$$"
   ]
  },
  {
   "cell_type": "markdown",
   "metadata": {
    "ExecuteTime": {
     "end_time": "2017-06-04T00:45:14.617334Z",
     "start_time": "2017-06-04T03:45:14.613819+03:00"
    }
   },
   "source": [
    "### BM25:"
   ]
  },
  {
   "cell_type": "markdown",
   "metadata": {
    "ExecuteTime": {
     "end_time": "2017-06-04T00:45:02.409839Z",
     "start_time": "2017-06-04T03:45:02.404127+03:00"
    }
   },
   "source": [
    "https://ru.wikipedia.org/wiki/Okapi_BM25"
   ]
  },
  {
   "cell_type": "markdown",
   "metadata": {},
   "source": [
    "$${\\text{IDF}}(q_{i})\\cdot {\\frac  {f(q_{i},D)\\cdot (k_{1}+1)}{f(q_{i},D)+k_{1}\\cdot (1-b+b\\cdot {\\frac  {|D|}{{\\text{avgdl}}}})}}$$"
   ]
  },
  {
   "cell_type": "code",
   "execution_count": 2,
   "metadata": {
    "ExecuteTime": {
     "end_time": "2018-08-03T14:51:33.733707Z",
     "start_time": "2018-08-03T14:51:33.578500Z"
    }
   },
   "outputs": [
    {
     "data": {
      "image/png": "[encoded data removed]",
      "text/plain": [
       "<Figure size 432x288 with 1 Axes>"
      ]
     },
     "metadata": {},
     "output_type": "display_data"
    }
   ],
   "source": [
    "import numpy as np\n",
    "import matplotlib.pyplot as plt\n",
    "%matplotlib inline\n",
    "\n",
    "k = 2\n",
    "b = 0.75\n",
    "freq = 0.1\n",
    "relative_capacity = np.arange(0, 5, 0.01)\n",
    "bm25 = (freq * (k + 1)) / (freq + k * (1 - b + b * relative_capacity))\n",
    "plt.plot(relative_capacity, bm25)\n",
    "plt.ylabel('BM25')\n",
    "plt.xlabel('doc_length / mean(doc_length)');"
   ]
  },
  {
   "cell_type": "markdown",
   "metadata": {},
   "source": [
    "### Word2Vec:"
   ]
  },
  {
   "cell_type": "markdown",
   "metadata": {
    "ExecuteTime": {
     "end_time": "2017-06-03T23:57:08.804932Z",
     "start_time": "2017-06-04T02:57:08.798045+03:00"
    }
   },
   "source": [
    "Ведео-разбор от разработчика gensim (реализация w2v) https://www.youtube.com/watch?v=oBb9aFmp0Hs\n",
    "<br>\n",
    "https://github.com/RaRe-Technologies/movie-plots-by-genre - репозиторий рассказа (в нем же слайды)"
   ]
  },
  {
   "cell_type": "markdown",
   "metadata": {},
   "source": [
    "Коротко об устройстве word2vec: \n",
    "http://www.machinelearning.ru/wiki/images/b/b3/Word2Vec.pdf"
   ]
  },
  {
   "cell_type": "markdown",
   "metadata": {
    "ExecuteTime": {
     "end_time": "2017-06-04T00:24:16.728755Z",
     "start_time": "2017-06-04T03:24:16.682727+03:00"
    }
   },
   "source": [
    "Классная статья о применении w2v, если обучиться на поисковых запросах: https://habrahabr.ru/post/249215/"
   ]
  },
  {
   "cell_type": "markdown",
   "metadata": {},
   "source": [
    "### FastText:\n",
    "\n",
    "Библиотека от Facebook для классификации текстов. Внутри – нейросеть с 1 скрытым слоем. Так же доступен unsupervised режим для обучения векторов слов.\n",
    "\n",
    "Прекрасное видео от создателей: https://www.youtube.com/watch?v=CHcExDsDeHU&t=394s\n"
   ]
  },
  {
   "cell_type": "markdown",
   "metadata": {
    "ExecuteTime": {
     "end_time": "2017-06-04T00:10:11.150844Z",
     "start_time": "2017-06-04T03:10:11.144252+03:00"
    }
   },
   "source": [
    "### DSSM (Deep Structured Semantic Model): "
   ]
  },
  {
   "cell_type": "markdown",
   "metadata": {
    "ExecuteTime": {
     "end_time": "2017-06-04T00:08:39.857511Z",
     "start_time": "2017-06-04T03:08:39.849714+03:00"
    }
   },
   "source": [
    "Очень понятная статья о том, как используют DSSM в Яндексе: https://habrahabr.ru/company/yandex/blog/314222/"
   ]
  },
  {
   "cell_type": "markdown",
   "metadata": {},
   "source": [
    "DSSM классическая статья: https://posenhuang.github.io/papers/cikm2013_DSSM_fullversion.pdf\n",
    "<br> Какая-то хаотичная статья от Microsoft:\n",
    "https://www.microsoft.com/en-us/research/wp-content/uploads/2016/02/wsdm2015.v3.pdf"
   ]
  },
  {
   "cell_type": "markdown",
   "metadata": {
    "ExecuteTime": {
     "end_time": "2017-06-04T00:06:42.082198Z",
     "start_time": "2017-06-04T03:06:42.065983+03:00"
    }
   },
   "source": [
    "Реализация DSSM на TensorFlow: http://liaha.github.io/models/2016/06/21/dssm-on-tensorflow.html"
   ]
  }
 ],
 "metadata": {
  "kernelspec": {
   "display_name": "Python 3",
   "language": "python",
   "name": "python3"
  },
  "language_info": {
   "codemirror_mode": {
    "name": "ipython",
    "version": 3
   },
   "file_extension": ".py",
   "mimetype": "text/x-python",
   "name": "python",
   "nbconvert_exporter": "python",
   "pygments_lexer": "ipython3",
   "version": "3.6.4"
  }
 },
 "nbformat": 4,
 "nbformat_minor": 2
}
