{
 "cells": [
  {
   "cell_type": "markdown",
   "metadata": {},
   "source": [
    "#Exploration of the dataset\n",
    "Before you start to solve the classification task you should carry out some research to get familiar with the dataset and to decide what features and observations will be useful. Let's do it together."
   ]
  },
  {
   "cell_type": "code",
   "execution_count": 2,
   "metadata": {
    "ExecuteTime": {
     "end_time": "2017-10-20T17:51:59.622583Z",
     "start_time": "2017-10-20T17:51:58.909260Z"
    },
    "collapsed": true
   },
   "outputs": [],
   "source": [
    "import pandas as pd\n",
    "import seaborn as sns\n",
    "import numpy as np\n",
    "import matplotlib.pyplot as plt\n",
    "%matplotlib inline"
   ]
  },
  {
   "cell_type": "code",
   "execution_count": 3,
   "metadata": {
    "ExecuteTime": {
     "end_time": "2017-10-20T17:51:59.681312Z",
     "start_time": "2017-10-20T17:51:59.624236Z"
    },
    "collapsed": true
   },
   "outputs": [],
   "source": [
    "animals = pd.read_csv('train.csv')"
   ]
  },
  {
   "cell_type": "code",
   "execution_count": 4,
   "metadata": {
    "ExecuteTime": {
     "end_time": "2017-10-20T17:52:00.389720Z",
     "start_time": "2017-10-20T17:52:00.313779Z"
    }
   },
   "outputs": [
    {
     "data": {
      "text/html": [
       "<div>\n",
       "<style>\n",
       "    .dataframe thead tr:only-child th {\n",
       "        text-align: right;\n",
       "    }\n",
       "\n",
       "    .dataframe thead th {\n",
       "        text-align: left;\n",
       "    }\n",
       "\n",
       "    .dataframe tbody tr th {\n",
       "        vertical-align: top;\n",
       "    }\n",
       "</style>\n",
       "<table border=\"1\" class=\"dataframe\">\n",
       "  <thead>\n",
       "    <tr style=\"text-align: right;\">\n",
       "      <th></th>\n",
       "      <th>AnimalID</th>\n",
       "      <th>Name</th>\n",
       "      <th>DateTime</th>\n",
       "      <th>OutcomeType</th>\n",
       "      <th>OutcomeSubtype</th>\n",
       "      <th>AnimalType</th>\n",
       "      <th>SexuponOutcome</th>\n",
       "      <th>AgeuponOutcome</th>\n",
       "      <th>Breed</th>\n",
       "      <th>Color</th>\n",
       "    </tr>\n",
       "  </thead>\n",
       "  <tbody>\n",
       "    <tr>\n",
       "      <th>0</th>\n",
       "      <td>A671945</td>\n",
       "      <td>Hambone</td>\n",
       "      <td>2014-02-12 18:22:00</td>\n",
       "      <td>Return_to_owner</td>\n",
       "      <td>NaN</td>\n",
       "      <td>Dog</td>\n",
       "      <td>Neutered Male</td>\n",
       "      <td>1 year</td>\n",
       "      <td>Shetland Sheepdog Mix</td>\n",
       "      <td>Brown/White</td>\n",
       "    </tr>\n",
       "    <tr>\n",
       "      <th>1</th>\n",
       "      <td>A656520</td>\n",
       "      <td>Emily</td>\n",
       "      <td>2013-10-13 12:44:00</td>\n",
       "      <td>Euthanasia</td>\n",
       "      <td>Suffering</td>\n",
       "      <td>Cat</td>\n",
       "      <td>Spayed Female</td>\n",
       "      <td>1 year</td>\n",
       "      <td>Domestic Shorthair Mix</td>\n",
       "      <td>Cream Tabby</td>\n",
       "    </tr>\n",
       "    <tr>\n",
       "      <th>2</th>\n",
       "      <td>A686464</td>\n",
       "      <td>Pearce</td>\n",
       "      <td>2015-01-31 12:28:00</td>\n",
       "      <td>Adoption</td>\n",
       "      <td>Foster</td>\n",
       "      <td>Dog</td>\n",
       "      <td>Neutered Male</td>\n",
       "      <td>2 years</td>\n",
       "      <td>Pit Bull Mix</td>\n",
       "      <td>Blue/White</td>\n",
       "    </tr>\n",
       "    <tr>\n",
       "      <th>3</th>\n",
       "      <td>A683430</td>\n",
       "      <td>NaN</td>\n",
       "      <td>2014-07-11 19:09:00</td>\n",
       "      <td>Transfer</td>\n",
       "      <td>Partner</td>\n",
       "      <td>Cat</td>\n",
       "      <td>Intact Male</td>\n",
       "      <td>3 weeks</td>\n",
       "      <td>Domestic Shorthair Mix</td>\n",
       "      <td>Blue Cream</td>\n",
       "    </tr>\n",
       "    <tr>\n",
       "      <th>4</th>\n",
       "      <td>A667013</td>\n",
       "      <td>NaN</td>\n",
       "      <td>2013-11-15 12:52:00</td>\n",
       "      <td>Transfer</td>\n",
       "      <td>Partner</td>\n",
       "      <td>Dog</td>\n",
       "      <td>Neutered Male</td>\n",
       "      <td>2 years</td>\n",
       "      <td>Lhasa Apso/Miniature Poodle</td>\n",
       "      <td>Tan</td>\n",
       "    </tr>\n",
       "    <tr>\n",
       "      <th>5</th>\n",
       "      <td>A677334</td>\n",
       "      <td>Elsa</td>\n",
       "      <td>2014-04-25 13:04:00</td>\n",
       "      <td>Transfer</td>\n",
       "      <td>Partner</td>\n",
       "      <td>Dog</td>\n",
       "      <td>Intact Female</td>\n",
       "      <td>1 month</td>\n",
       "      <td>Cairn Terrier/Chihuahua Shorthair</td>\n",
       "      <td>Black/Tan</td>\n",
       "    </tr>\n",
       "    <tr>\n",
       "      <th>6</th>\n",
       "      <td>A699218</td>\n",
       "      <td>Jimmy</td>\n",
       "      <td>2015-03-28 13:11:00</td>\n",
       "      <td>Transfer</td>\n",
       "      <td>Partner</td>\n",
       "      <td>Cat</td>\n",
       "      <td>Intact Male</td>\n",
       "      <td>3 weeks</td>\n",
       "      <td>Domestic Shorthair Mix</td>\n",
       "      <td>Blue Tabby</td>\n",
       "    </tr>\n",
       "    <tr>\n",
       "      <th>7</th>\n",
       "      <td>A701489</td>\n",
       "      <td>NaN</td>\n",
       "      <td>2015-04-30 17:02:00</td>\n",
       "      <td>Transfer</td>\n",
       "      <td>Partner</td>\n",
       "      <td>Cat</td>\n",
       "      <td>Unknown</td>\n",
       "      <td>3 weeks</td>\n",
       "      <td>Domestic Shorthair Mix</td>\n",
       "      <td>Brown Tabby</td>\n",
       "    </tr>\n",
       "    <tr>\n",
       "      <th>8</th>\n",
       "      <td>A671784</td>\n",
       "      <td>Lucy</td>\n",
       "      <td>2014-02-04 17:17:00</td>\n",
       "      <td>Adoption</td>\n",
       "      <td>NaN</td>\n",
       "      <td>Dog</td>\n",
       "      <td>Spayed Female</td>\n",
       "      <td>5 months</td>\n",
       "      <td>American Pit Bull Terrier Mix</td>\n",
       "      <td>Red/White</td>\n",
       "    </tr>\n",
       "    <tr>\n",
       "      <th>9</th>\n",
       "      <td>A677747</td>\n",
       "      <td>NaN</td>\n",
       "      <td>2014-05-03 07:48:00</td>\n",
       "      <td>Adoption</td>\n",
       "      <td>Offsite</td>\n",
       "      <td>Dog</td>\n",
       "      <td>Spayed Female</td>\n",
       "      <td>1 year</td>\n",
       "      <td>Cairn Terrier</td>\n",
       "      <td>White</td>\n",
       "    </tr>\n",
       "    <tr>\n",
       "      <th>10</th>\n",
       "      <td>A668402</td>\n",
       "      <td>NaN</td>\n",
       "      <td>2013-12-05 15:50:00</td>\n",
       "      <td>Transfer</td>\n",
       "      <td>SCRP</td>\n",
       "      <td>Cat</td>\n",
       "      <td>Unknown</td>\n",
       "      <td>2 years</td>\n",
       "      <td>Domestic Shorthair Mix</td>\n",
       "      <td>Black</td>\n",
       "    </tr>\n",
       "    <tr>\n",
       "      <th>11</th>\n",
       "      <td>A666320</td>\n",
       "      <td>NaN</td>\n",
       "      <td>2013-11-04 14:48:00</td>\n",
       "      <td>Adoption</td>\n",
       "      <td>NaN</td>\n",
       "      <td>Dog</td>\n",
       "      <td>Spayed Female</td>\n",
       "      <td>2 years</td>\n",
       "      <td>Miniature Schnauzer Mix</td>\n",
       "      <td>Silver</td>\n",
       "    </tr>\n",
       "    <tr>\n",
       "      <th>12</th>\n",
       "      <td>A684601</td>\n",
       "      <td>Rocket</td>\n",
       "      <td>2016-02-03 11:27:00</td>\n",
       "      <td>Adoption</td>\n",
       "      <td>Foster</td>\n",
       "      <td>Dog</td>\n",
       "      <td>Neutered Male</td>\n",
       "      <td>4 years</td>\n",
       "      <td>Pit Bull Mix</td>\n",
       "      <td>Brown</td>\n",
       "    </tr>\n",
       "    <tr>\n",
       "      <th>13</th>\n",
       "      <td>A704702</td>\n",
       "      <td>Scooter</td>\n",
       "      <td>2015-06-08 16:30:00</td>\n",
       "      <td>Return_to_owner</td>\n",
       "      <td>NaN</td>\n",
       "      <td>Dog</td>\n",
       "      <td>Neutered Male</td>\n",
       "      <td>2 years</td>\n",
       "      <td>Yorkshire Terrier Mix</td>\n",
       "      <td>Black/Red</td>\n",
       "    </tr>\n",
       "    <tr>\n",
       "      <th>14</th>\n",
       "      <td>A688584</td>\n",
       "      <td>Preston</td>\n",
       "      <td>2015-11-25 15:00:00</td>\n",
       "      <td>Return_to_owner</td>\n",
       "      <td>NaN</td>\n",
       "      <td>Dog</td>\n",
       "      <td>Neutered Male</td>\n",
       "      <td>1 year</td>\n",
       "      <td>Great Pyrenees Mix</td>\n",
       "      <td>White/Cream</td>\n",
       "    </tr>\n",
       "    <tr>\n",
       "      <th>15</th>\n",
       "      <td>A678825</td>\n",
       "      <td>Oliver</td>\n",
       "      <td>2014-07-12 12:10:00</td>\n",
       "      <td>Adoption</td>\n",
       "      <td>Foster</td>\n",
       "      <td>Cat</td>\n",
       "      <td>Neutered Male</td>\n",
       "      <td>3 months</td>\n",
       "      <td>Domestic Shorthair Mix</td>\n",
       "      <td>Orange Tabby/White</td>\n",
       "    </tr>\n",
       "    <tr>\n",
       "      <th>16</th>\n",
       "      <td>A678050</td>\n",
       "      <td>NaN</td>\n",
       "      <td>2014-05-03 16:15:00</td>\n",
       "      <td>Transfer</td>\n",
       "      <td>Partner</td>\n",
       "      <td>Cat</td>\n",
       "      <td>Intact Male</td>\n",
       "      <td>3 weeks</td>\n",
       "      <td>Domestic Shorthair Mix</td>\n",
       "      <td>Brown Tabby</td>\n",
       "    </tr>\n",
       "    <tr>\n",
       "      <th>17</th>\n",
       "      <td>A680028</td>\n",
       "      <td>NaN</td>\n",
       "      <td>2014-06-07 12:54:00</td>\n",
       "      <td>Transfer</td>\n",
       "      <td>Partner</td>\n",
       "      <td>Dog</td>\n",
       "      <td>Intact Female</td>\n",
       "      <td>2 weeks</td>\n",
       "      <td>Pit Bull Mix</td>\n",
       "      <td>Brown/White</td>\n",
       "    </tr>\n",
       "    <tr>\n",
       "      <th>18</th>\n",
       "      <td>A679010</td>\n",
       "      <td>Chrissy</td>\n",
       "      <td>2014-05-17 11:32:00</td>\n",
       "      <td>Transfer</td>\n",
       "      <td>Partner</td>\n",
       "      <td>Cat</td>\n",
       "      <td>Intact Female</td>\n",
       "      <td>2 years</td>\n",
       "      <td>Angora Mix</td>\n",
       "      <td>White</td>\n",
       "    </tr>\n",
       "    <tr>\n",
       "      <th>19</th>\n",
       "      <td>A684787</td>\n",
       "      <td>Kuma</td>\n",
       "      <td>2014-07-30 17:34:00</td>\n",
       "      <td>Return_to_owner</td>\n",
       "      <td>NaN</td>\n",
       "      <td>Dog</td>\n",
       "      <td>Neutered Male</td>\n",
       "      <td>1 year</td>\n",
       "      <td>Flat Coat Retriever Mix</td>\n",
       "      <td>Black</td>\n",
       "    </tr>\n",
       "    <tr>\n",
       "      <th>20</th>\n",
       "      <td>A670658</td>\n",
       "      <td>Anders</td>\n",
       "      <td>2014-01-19 15:03:00</td>\n",
       "      <td>Transfer</td>\n",
       "      <td>Partner</td>\n",
       "      <td>Dog</td>\n",
       "      <td>Intact Male</td>\n",
       "      <td>2 months</td>\n",
       "      <td>Queensland Heeler Mix</td>\n",
       "      <td>Black/White</td>\n",
       "    </tr>\n",
       "    <tr>\n",
       "      <th>21</th>\n",
       "      <td>A708812</td>\n",
       "      <td>Munchkin</td>\n",
       "      <td>2015-09-18 15:19:00</td>\n",
       "      <td>Transfer</td>\n",
       "      <td>Partner</td>\n",
       "      <td>Cat</td>\n",
       "      <td>Spayed Female</td>\n",
       "      <td>1 year</td>\n",
       "      <td>Domestic Shorthair Mix</td>\n",
       "      <td>White</td>\n",
       "    </tr>\n",
       "    <tr>\n",
       "      <th>22</th>\n",
       "      <td>A705262</td>\n",
       "      <td>Jamaica</td>\n",
       "      <td>2015-08-15 14:22:00</td>\n",
       "      <td>Adoption</td>\n",
       "      <td>NaN</td>\n",
       "      <td>Dog</td>\n",
       "      <td>Spayed Female</td>\n",
       "      <td>2 years</td>\n",
       "      <td>Plott Hound/Boxer</td>\n",
       "      <td>Brown Brindle/White</td>\n",
       "    </tr>\n",
       "    <tr>\n",
       "      <th>23</th>\n",
       "      <td>A665781</td>\n",
       "      <td>Quattro</td>\n",
       "      <td>2013-10-28 16:32:00</td>\n",
       "      <td>Adoption</td>\n",
       "      <td>NaN</td>\n",
       "      <td>Dog</td>\n",
       "      <td>Neutered Male</td>\n",
       "      <td>10 months</td>\n",
       "      <td>German Shepherd Mix</td>\n",
       "      <td>Brown/White</td>\n",
       "    </tr>\n",
       "    <tr>\n",
       "      <th>24</th>\n",
       "      <td>A676333</td>\n",
       "      <td>Trigger</td>\n",
       "      <td>2014-04-09 17:44:00</td>\n",
       "      <td>Return_to_owner</td>\n",
       "      <td>NaN</td>\n",
       "      <td>Dog</td>\n",
       "      <td>Neutered Male</td>\n",
       "      <td>2 months</td>\n",
       "      <td>German Shepherd Mix</td>\n",
       "      <td>Black/Brown</td>\n",
       "    </tr>\n",
       "    <tr>\n",
       "      <th>25</th>\n",
       "      <td>A712750</td>\n",
       "      <td>Olive</td>\n",
       "      <td>2015-10-03 15:44:00</td>\n",
       "      <td>Transfer</td>\n",
       "      <td>Partner</td>\n",
       "      <td>Cat</td>\n",
       "      <td>Intact Female</td>\n",
       "      <td>1 month</td>\n",
       "      <td>Domestic Shorthair Mix</td>\n",
       "      <td>Orange Tabby</td>\n",
       "    </tr>\n",
       "    <tr>\n",
       "      <th>26</th>\n",
       "      <td>A718832</td>\n",
       "      <td>Nia</td>\n",
       "      <td>2016-01-15 17:31:00</td>\n",
       "      <td>Adoption</td>\n",
       "      <td>NaN</td>\n",
       "      <td>Dog</td>\n",
       "      <td>Spayed Female</td>\n",
       "      <td>6 months</td>\n",
       "      <td>American Staffordshire Terrier Mix</td>\n",
       "      <td>Chocolate/White</td>\n",
       "    </tr>\n",
       "    <tr>\n",
       "      <th>27</th>\n",
       "      <td>A698777</td>\n",
       "      <td>Chloe</td>\n",
       "      <td>2015-03-25 18:50:00</td>\n",
       "      <td>Adoption</td>\n",
       "      <td>NaN</td>\n",
       "      <td>Dog</td>\n",
       "      <td>Spayed Female</td>\n",
       "      <td>5 years</td>\n",
       "      <td>Chihuahua Shorthair Mix</td>\n",
       "      <td>White/Tan</td>\n",
       "    </tr>\n",
       "    <tr>\n",
       "      <th>28</th>\n",
       "      <td>A715348</td>\n",
       "      <td>Cymbale</td>\n",
       "      <td>2015-11-21 13:01:00</td>\n",
       "      <td>Adoption</td>\n",
       "      <td>NaN</td>\n",
       "      <td>Cat</td>\n",
       "      <td>Spayed Female</td>\n",
       "      <td>2 months</td>\n",
       "      <td>Domestic Shorthair Mix</td>\n",
       "      <td>Cream Tabby/White</td>\n",
       "    </tr>\n",
       "    <tr>\n",
       "      <th>29</th>\n",
       "      <td>A708666</td>\n",
       "      <td>Jax</td>\n",
       "      <td>2015-07-30 14:30:00</td>\n",
       "      <td>Return_to_owner</td>\n",
       "      <td>NaN</td>\n",
       "      <td>Cat</td>\n",
       "      <td>Neutered Male</td>\n",
       "      <td>7 years</td>\n",
       "      <td>Russian Blue Mix</td>\n",
       "      <td>Blue</td>\n",
       "    </tr>\n",
       "    <tr>\n",
       "      <th>...</th>\n",
       "      <td>...</td>\n",
       "      <td>...</td>\n",
       "      <td>...</td>\n",
       "      <td>...</td>\n",
       "      <td>...</td>\n",
       "      <td>...</td>\n",
       "      <td>...</td>\n",
       "      <td>...</td>\n",
       "      <td>...</td>\n",
       "      <td>...</td>\n",
       "    </tr>\n",
       "    <tr>\n",
       "      <th>26699</th>\n",
       "      <td>A676460</td>\n",
       "      <td>Mario</td>\n",
       "      <td>2014-04-21 14:01:00</td>\n",
       "      <td>Euthanasia</td>\n",
       "      <td>Behavior</td>\n",
       "      <td>Dog</td>\n",
       "      <td>Neutered Male</td>\n",
       "      <td>2 years</td>\n",
       "      <td>American Pit Bull Terrier Mix</td>\n",
       "      <td>White/Black</td>\n",
       "    </tr>\n",
       "    <tr>\n",
       "      <th>26700</th>\n",
       "      <td>A704999</td>\n",
       "      <td>Lion</td>\n",
       "      <td>2015-06-15 19:28:00</td>\n",
       "      <td>Return_to_owner</td>\n",
       "      <td>NaN</td>\n",
       "      <td>Dog</td>\n",
       "      <td>Intact Male</td>\n",
       "      <td>10 months</td>\n",
       "      <td>Great Pyrenees/Anatol Shepherd</td>\n",
       "      <td>Tan/Cream</td>\n",
       "    </tr>\n",
       "    <tr>\n",
       "      <th>26701</th>\n",
       "      <td>A678842</td>\n",
       "      <td>Ella</td>\n",
       "      <td>2014-06-15 17:41:00</td>\n",
       "      <td>Transfer</td>\n",
       "      <td>Partner</td>\n",
       "      <td>Dog</td>\n",
       "      <td>Intact Female</td>\n",
       "      <td>11 months</td>\n",
       "      <td>Jack Russell Terrier Mix</td>\n",
       "      <td>White/Black</td>\n",
       "    </tr>\n",
       "    <tr>\n",
       "      <th>26702</th>\n",
       "      <td>A713637</td>\n",
       "      <td>NaN</td>\n",
       "      <td>2015-10-11 09:42:00</td>\n",
       "      <td>Died</td>\n",
       "      <td>In Kennel</td>\n",
       "      <td>Cat</td>\n",
       "      <td>Spayed Female</td>\n",
       "      <td>2 years</td>\n",
       "      <td>Siamese Mix</td>\n",
       "      <td>Lynx Point</td>\n",
       "    </tr>\n",
       "    <tr>\n",
       "      <th>26703</th>\n",
       "      <td>A716670</td>\n",
       "      <td>Mowmow</td>\n",
       "      <td>2015-12-04 12:22:00</td>\n",
       "      <td>Transfer</td>\n",
       "      <td>Partner</td>\n",
       "      <td>Cat</td>\n",
       "      <td>Neutered Male</td>\n",
       "      <td>6 years</td>\n",
       "      <td>Domestic Longhair Mix</td>\n",
       "      <td>Seal Point</td>\n",
       "    </tr>\n",
       "    <tr>\n",
       "      <th>26704</th>\n",
       "      <td>A716223</td>\n",
       "      <td>Alice</td>\n",
       "      <td>2015-11-17 17:17:00</td>\n",
       "      <td>Transfer</td>\n",
       "      <td>Partner</td>\n",
       "      <td>Cat</td>\n",
       "      <td>Intact Female</td>\n",
       "      <td>4 weeks</td>\n",
       "      <td>Domestic Shorthair Mix</td>\n",
       "      <td>White/Black</td>\n",
       "    </tr>\n",
       "    <tr>\n",
       "      <th>26705</th>\n",
       "      <td>A662498</td>\n",
       "      <td>Grace</td>\n",
       "      <td>2013-10-19 15:34:00</td>\n",
       "      <td>Transfer</td>\n",
       "      <td>Partner</td>\n",
       "      <td>Cat</td>\n",
       "      <td>Intact Female</td>\n",
       "      <td>2 months</td>\n",
       "      <td>Domestic Shorthair Mix</td>\n",
       "      <td>Tortie</td>\n",
       "    </tr>\n",
       "    <tr>\n",
       "      <th>26706</th>\n",
       "      <td>A689942</td>\n",
       "      <td>Zoey</td>\n",
       "      <td>2014-10-19 13:29:00</td>\n",
       "      <td>Adoption</td>\n",
       "      <td>NaN</td>\n",
       "      <td>Cat</td>\n",
       "      <td>Spayed Female</td>\n",
       "      <td>2 months</td>\n",
       "      <td>Domestic Shorthair Mix</td>\n",
       "      <td>Black</td>\n",
       "    </tr>\n",
       "    <tr>\n",
       "      <th>26707</th>\n",
       "      <td>A682690</td>\n",
       "      <td>NaN</td>\n",
       "      <td>2014-07-01 17:06:00</td>\n",
       "      <td>Euthanasia</td>\n",
       "      <td>Suffering</td>\n",
       "      <td>Cat</td>\n",
       "      <td>Unknown</td>\n",
       "      <td>1 year</td>\n",
       "      <td>Domestic Shorthair Mix</td>\n",
       "      <td>Brown Tabby</td>\n",
       "    </tr>\n",
       "    <tr>\n",
       "      <th>26708</th>\n",
       "      <td>A666920</td>\n",
       "      <td>Herbie</td>\n",
       "      <td>2013-11-13 17:32:00</td>\n",
       "      <td>Transfer</td>\n",
       "      <td>Partner</td>\n",
       "      <td>Dog</td>\n",
       "      <td>Neutered Male</td>\n",
       "      <td>2 years</td>\n",
       "      <td>Chihuahua Shorthair Mix</td>\n",
       "      <td>White/Brown</td>\n",
       "    </tr>\n",
       "    <tr>\n",
       "      <th>26709</th>\n",
       "      <td>A714386</td>\n",
       "      <td>NaN</td>\n",
       "      <td>2015-10-24 00:00:00</td>\n",
       "      <td>Adoption</td>\n",
       "      <td>NaN</td>\n",
       "      <td>Dog</td>\n",
       "      <td>Spayed Female</td>\n",
       "      <td>1 month</td>\n",
       "      <td>Chihuahua Shorthair Mix</td>\n",
       "      <td>Sable/Buff</td>\n",
       "    </tr>\n",
       "    <tr>\n",
       "      <th>26710</th>\n",
       "      <td>A692622</td>\n",
       "      <td>Bonnie</td>\n",
       "      <td>2014-11-24 17:21:00</td>\n",
       "      <td>Transfer</td>\n",
       "      <td>Partner</td>\n",
       "      <td>Dog</td>\n",
       "      <td>Intact Female</td>\n",
       "      <td>1 month</td>\n",
       "      <td>Chihuahua Shorthair/Yorkshire Terrier</td>\n",
       "      <td>Brown/Black</td>\n",
       "    </tr>\n",
       "    <tr>\n",
       "      <th>26711</th>\n",
       "      <td>A666284</td>\n",
       "      <td>Sonja</td>\n",
       "      <td>2013-10-30 18:32:00</td>\n",
       "      <td>Transfer</td>\n",
       "      <td>Partner</td>\n",
       "      <td>Dog</td>\n",
       "      <td>Intact Female</td>\n",
       "      <td>1 year</td>\n",
       "      <td>Cocker Spaniel/Dachshund</td>\n",
       "      <td>Buff</td>\n",
       "    </tr>\n",
       "    <tr>\n",
       "      <th>26712</th>\n",
       "      <td>A535277</td>\n",
       "      <td>Merlin</td>\n",
       "      <td>2015-04-20 16:04:00</td>\n",
       "      <td>Return_to_owner</td>\n",
       "      <td>NaN</td>\n",
       "      <td>Dog</td>\n",
       "      <td>Neutered Male</td>\n",
       "      <td>12 years</td>\n",
       "      <td>Rat Terrier</td>\n",
       "      <td>Chocolate/Tan</td>\n",
       "    </tr>\n",
       "    <tr>\n",
       "      <th>26713</th>\n",
       "      <td>A671169</td>\n",
       "      <td>NaN</td>\n",
       "      <td>2014-01-20 17:37:00</td>\n",
       "      <td>Euthanasia</td>\n",
       "      <td>Suffering</td>\n",
       "      <td>Cat</td>\n",
       "      <td>Intact Female</td>\n",
       "      <td>18 years</td>\n",
       "      <td>Domestic Longhair Mix</td>\n",
       "      <td>Tortie</td>\n",
       "    </tr>\n",
       "    <tr>\n",
       "      <th>26714</th>\n",
       "      <td>A679031</td>\n",
       "      <td>Pete</td>\n",
       "      <td>2014-05-31 16:11:00</td>\n",
       "      <td>Adoption</td>\n",
       "      <td>NaN</td>\n",
       "      <td>Cat</td>\n",
       "      <td>Spayed Female</td>\n",
       "      <td>2 months</td>\n",
       "      <td>Domestic Shorthair Mix</td>\n",
       "      <td>Orange Tabby</td>\n",
       "    </tr>\n",
       "    <tr>\n",
       "      <th>26715</th>\n",
       "      <td>A708833</td>\n",
       "      <td>Luna</td>\n",
       "      <td>2015-08-05 17:03:00</td>\n",
       "      <td>Adoption</td>\n",
       "      <td>NaN</td>\n",
       "      <td>Dog</td>\n",
       "      <td>Spayed Female</td>\n",
       "      <td>2 months</td>\n",
       "      <td>Pointer Mix</td>\n",
       "      <td>Black/White</td>\n",
       "    </tr>\n",
       "    <tr>\n",
       "      <th>26716</th>\n",
       "      <td>A697158</td>\n",
       "      <td>Max</td>\n",
       "      <td>2015-05-02 21:04:00</td>\n",
       "      <td>Adoption</td>\n",
       "      <td>Offsite</td>\n",
       "      <td>Dog</td>\n",
       "      <td>Neutered Male</td>\n",
       "      <td>2 months</td>\n",
       "      <td>Newfoundland Mix</td>\n",
       "      <td>White/Black</td>\n",
       "    </tr>\n",
       "    <tr>\n",
       "      <th>26717</th>\n",
       "      <td>A519949</td>\n",
       "      <td>Bella</td>\n",
       "      <td>2014-06-30 17:34:00</td>\n",
       "      <td>Return_to_owner</td>\n",
       "      <td>NaN</td>\n",
       "      <td>Dog</td>\n",
       "      <td>Spayed Female</td>\n",
       "      <td>9 years</td>\n",
       "      <td>Bullmastiff Mix</td>\n",
       "      <td>Black</td>\n",
       "    </tr>\n",
       "    <tr>\n",
       "      <th>26718</th>\n",
       "      <td>A701044</td>\n",
       "      <td>NaN</td>\n",
       "      <td>2015-04-28 14:26:00</td>\n",
       "      <td>Adoption</td>\n",
       "      <td>NaN</td>\n",
       "      <td>Dog</td>\n",
       "      <td>Neutered Male</td>\n",
       "      <td>2 months</td>\n",
       "      <td>Siberian Husky/German Shepherd</td>\n",
       "      <td>Black/Tricolor</td>\n",
       "    </tr>\n",
       "    <tr>\n",
       "      <th>26719</th>\n",
       "      <td>A707871</td>\n",
       "      <td>NaN</td>\n",
       "      <td>2015-07-20 09:00:00</td>\n",
       "      <td>Transfer</td>\n",
       "      <td>SCRP</td>\n",
       "      <td>Cat</td>\n",
       "      <td>Unknown</td>\n",
       "      <td>2 years</td>\n",
       "      <td>Domestic Shorthair Mix</td>\n",
       "      <td>Brown Tabby/White</td>\n",
       "    </tr>\n",
       "    <tr>\n",
       "      <th>26720</th>\n",
       "      <td>A704405</td>\n",
       "      <td>Brownie</td>\n",
       "      <td>2015-07-18 14:08:00</td>\n",
       "      <td>Adoption</td>\n",
       "      <td>NaN</td>\n",
       "      <td>Cat</td>\n",
       "      <td>Spayed Female</td>\n",
       "      <td>2 months</td>\n",
       "      <td>Domestic Shorthair Mix</td>\n",
       "      <td>Brown Tabby</td>\n",
       "    </tr>\n",
       "    <tr>\n",
       "      <th>26721</th>\n",
       "      <td>A662019</td>\n",
       "      <td>Green Bean</td>\n",
       "      <td>2014-07-17 09:43:00</td>\n",
       "      <td>Adoption</td>\n",
       "      <td>Foster</td>\n",
       "      <td>Cat</td>\n",
       "      <td>Spayed Female</td>\n",
       "      <td>5 years</td>\n",
       "      <td>Domestic Shorthair Mix</td>\n",
       "      <td>Black</td>\n",
       "    </tr>\n",
       "    <tr>\n",
       "      <th>26722</th>\n",
       "      <td>A687056</td>\n",
       "      <td>NaN</td>\n",
       "      <td>2014-08-31 09:00:00</td>\n",
       "      <td>Transfer</td>\n",
       "      <td>SCRP</td>\n",
       "      <td>Cat</td>\n",
       "      <td>Intact Male</td>\n",
       "      <td>5 months</td>\n",
       "      <td>Domestic Shorthair Mix</td>\n",
       "      <td>Orange Tabby</td>\n",
       "    </tr>\n",
       "    <tr>\n",
       "      <th>26723</th>\n",
       "      <td>A716997</td>\n",
       "      <td>Zeus</td>\n",
       "      <td>2016-01-29 18:52:00</td>\n",
       "      <td>Adoption</td>\n",
       "      <td>NaN</td>\n",
       "      <td>Dog</td>\n",
       "      <td>Neutered Male</td>\n",
       "      <td>6 years</td>\n",
       "      <td>Staffordshire Mix</td>\n",
       "      <td>Blue/White</td>\n",
       "    </tr>\n",
       "    <tr>\n",
       "      <th>26724</th>\n",
       "      <td>A702446</td>\n",
       "      <td>NaN</td>\n",
       "      <td>2015-05-14 11:56:00</td>\n",
       "      <td>Transfer</td>\n",
       "      <td>Partner</td>\n",
       "      <td>Cat</td>\n",
       "      <td>Intact Male</td>\n",
       "      <td>1 month</td>\n",
       "      <td>Domestic Shorthair Mix</td>\n",
       "      <td>Brown Tabby/White</td>\n",
       "    </tr>\n",
       "    <tr>\n",
       "      <th>26725</th>\n",
       "      <td>A718934</td>\n",
       "      <td>NaN</td>\n",
       "      <td>2016-01-20 18:59:00</td>\n",
       "      <td>Transfer</td>\n",
       "      <td>SCRP</td>\n",
       "      <td>Cat</td>\n",
       "      <td>Spayed Female</td>\n",
       "      <td>3 months</td>\n",
       "      <td>Domestic Shorthair Mix</td>\n",
       "      <td>Brown Tabby</td>\n",
       "    </tr>\n",
       "    <tr>\n",
       "      <th>26726</th>\n",
       "      <td>A698128</td>\n",
       "      <td>Zeus</td>\n",
       "      <td>2015-03-09 13:33:00</td>\n",
       "      <td>Adoption</td>\n",
       "      <td>NaN</td>\n",
       "      <td>Dog</td>\n",
       "      <td>Neutered Male</td>\n",
       "      <td>4 years</td>\n",
       "      <td>Old English Bulldog Mix</td>\n",
       "      <td>White/Tan</td>\n",
       "    </tr>\n",
       "    <tr>\n",
       "      <th>26727</th>\n",
       "      <td>A677478</td>\n",
       "      <td>NaN</td>\n",
       "      <td>2014-04-27 12:22:00</td>\n",
       "      <td>Transfer</td>\n",
       "      <td>Partner</td>\n",
       "      <td>Cat</td>\n",
       "      <td>Intact Male</td>\n",
       "      <td>4 weeks</td>\n",
       "      <td>Domestic Shorthair Mix</td>\n",
       "      <td>Black</td>\n",
       "    </tr>\n",
       "    <tr>\n",
       "      <th>26728</th>\n",
       "      <td>A706629</td>\n",
       "      <td>NaN</td>\n",
       "      <td>2015-07-02 09:00:00</td>\n",
       "      <td>Transfer</td>\n",
       "      <td>SCRP</td>\n",
       "      <td>Cat</td>\n",
       "      <td>Intact Male</td>\n",
       "      <td>1 year</td>\n",
       "      <td>Domestic Shorthair Mix</td>\n",
       "      <td>Brown Tabby/White</td>\n",
       "    </tr>\n",
       "  </tbody>\n",
       "</table>\n",
       "<p>26729 rows × 10 columns</p>\n",
       "</div>"
      ],
      "text/plain": [
       "      AnimalID        Name             DateTime      OutcomeType  \\\n",
       "0      A671945     Hambone  2014-02-12 18:22:00  Return_to_owner   \n",
       "1      A656520       Emily  2013-10-13 12:44:00       Euthanasia   \n",
       "2      A686464      Pearce  2015-01-31 12:28:00         Adoption   \n",
       "3      A683430         NaN  2014-07-11 19:09:00         Transfer   \n",
       "4      A667013         NaN  2013-11-15 12:52:00         Transfer   \n",
       "5      A677334        Elsa  2014-04-25 13:04:00         Transfer   \n",
       "6      A699218       Jimmy  2015-03-28 13:11:00         Transfer   \n",
       "7      A701489         NaN  2015-04-30 17:02:00         Transfer   \n",
       "8      A671784        Lucy  2014-02-04 17:17:00         Adoption   \n",
       "9      A677747         NaN  2014-05-03 07:48:00         Adoption   \n",
       "10     A668402         NaN  2013-12-05 15:50:00         Transfer   \n",
       "11     A666320         NaN  2013-11-04 14:48:00         Adoption   \n",
       "12     A684601      Rocket  2016-02-03 11:27:00         Adoption   \n",
       "13     A704702     Scooter  2015-06-08 16:30:00  Return_to_owner   \n",
       "14     A688584     Preston  2015-11-25 15:00:00  Return_to_owner   \n",
       "15     A678825      Oliver  2014-07-12 12:10:00         Adoption   \n",
       "16     A678050         NaN  2014-05-03 16:15:00         Transfer   \n",
       "17     A680028         NaN  2014-06-07 12:54:00         Transfer   \n",
       "18     A679010     Chrissy  2014-05-17 11:32:00         Transfer   \n",
       "19     A684787        Kuma  2014-07-30 17:34:00  Return_to_owner   \n",
       "20     A670658      Anders  2014-01-19 15:03:00         Transfer   \n",
       "21     A708812    Munchkin  2015-09-18 15:19:00         Transfer   \n",
       "22     A705262     Jamaica  2015-08-15 14:22:00         Adoption   \n",
       "23     A665781     Quattro  2013-10-28 16:32:00         Adoption   \n",
       "24     A676333     Trigger  2014-04-09 17:44:00  Return_to_owner   \n",
       "25     A712750       Olive  2015-10-03 15:44:00         Transfer   \n",
       "26     A718832         Nia  2016-01-15 17:31:00         Adoption   \n",
       "27     A698777       Chloe  2015-03-25 18:50:00         Adoption   \n",
       "28     A715348     Cymbale  2015-11-21 13:01:00         Adoption   \n",
       "29     A708666         Jax  2015-07-30 14:30:00  Return_to_owner   \n",
       "...        ...         ...                  ...              ...   \n",
       "26699  A676460       Mario  2014-04-21 14:01:00       Euthanasia   \n",
       "26700  A704999        Lion  2015-06-15 19:28:00  Return_to_owner   \n",
       "26701  A678842        Ella  2014-06-15 17:41:00         Transfer   \n",
       "26702  A713637         NaN  2015-10-11 09:42:00             Died   \n",
       "26703  A716670      Mowmow  2015-12-04 12:22:00         Transfer   \n",
       "26704  A716223       Alice  2015-11-17 17:17:00         Transfer   \n",
       "26705  A662498       Grace  2013-10-19 15:34:00         Transfer   \n",
       "26706  A689942        Zoey  2014-10-19 13:29:00         Adoption   \n",
       "26707  A682690         NaN  2014-07-01 17:06:00       Euthanasia   \n",
       "26708  A666920      Herbie  2013-11-13 17:32:00         Transfer   \n",
       "26709  A714386         NaN  2015-10-24 00:00:00         Adoption   \n",
       "26710  A692622      Bonnie  2014-11-24 17:21:00         Transfer   \n",
       "26711  A666284       Sonja  2013-10-30 18:32:00         Transfer   \n",
       "26712  A535277      Merlin  2015-04-20 16:04:00  Return_to_owner   \n",
       "26713  A671169         NaN  2014-01-20 17:37:00       Euthanasia   \n",
       "26714  A679031        Pete  2014-05-31 16:11:00         Adoption   \n",
       "26715  A708833        Luna  2015-08-05 17:03:00         Adoption   \n",
       "26716  A697158         Max  2015-05-02 21:04:00         Adoption   \n",
       "26717  A519949       Bella  2014-06-30 17:34:00  Return_to_owner   \n",
       "26718  A701044         NaN  2015-04-28 14:26:00         Adoption   \n",
       "26719  A707871         NaN  2015-07-20 09:00:00         Transfer   \n",
       "26720  A704405     Brownie  2015-07-18 14:08:00         Adoption   \n",
       "26721  A662019  Green Bean  2014-07-17 09:43:00         Adoption   \n",
       "26722  A687056         NaN  2014-08-31 09:00:00         Transfer   \n",
       "26723  A716997        Zeus  2016-01-29 18:52:00         Adoption   \n",
       "26724  A702446         NaN  2015-05-14 11:56:00         Transfer   \n",
       "26725  A718934         NaN  2016-01-20 18:59:00         Transfer   \n",
       "26726  A698128        Zeus  2015-03-09 13:33:00         Adoption   \n",
       "26727  A677478         NaN  2014-04-27 12:22:00         Transfer   \n",
       "26728  A706629         NaN  2015-07-02 09:00:00         Transfer   \n",
       "\n",
       "      OutcomeSubtype AnimalType SexuponOutcome AgeuponOutcome  \\\n",
       "0                NaN        Dog  Neutered Male         1 year   \n",
       "1          Suffering        Cat  Spayed Female         1 year   \n",
       "2             Foster        Dog  Neutered Male        2 years   \n",
       "3            Partner        Cat    Intact Male        3 weeks   \n",
       "4            Partner        Dog  Neutered Male        2 years   \n",
       "5            Partner        Dog  Intact Female        1 month   \n",
       "6            Partner        Cat    Intact Male        3 weeks   \n",
       "7            Partner        Cat        Unknown        3 weeks   \n",
       "8                NaN        Dog  Spayed Female       5 months   \n",
       "9            Offsite        Dog  Spayed Female         1 year   \n",
       "10              SCRP        Cat        Unknown        2 years   \n",
       "11               NaN        Dog  Spayed Female        2 years   \n",
       "12            Foster        Dog  Neutered Male        4 years   \n",
       "13               NaN        Dog  Neutered Male        2 years   \n",
       "14               NaN        Dog  Neutered Male         1 year   \n",
       "15            Foster        Cat  Neutered Male       3 months   \n",
       "16           Partner        Cat    Intact Male        3 weeks   \n",
       "17           Partner        Dog  Intact Female        2 weeks   \n",
       "18           Partner        Cat  Intact Female        2 years   \n",
       "19               NaN        Dog  Neutered Male         1 year   \n",
       "20           Partner        Dog    Intact Male       2 months   \n",
       "21           Partner        Cat  Spayed Female         1 year   \n",
       "22               NaN        Dog  Spayed Female        2 years   \n",
       "23               NaN        Dog  Neutered Male      10 months   \n",
       "24               NaN        Dog  Neutered Male       2 months   \n",
       "25           Partner        Cat  Intact Female        1 month   \n",
       "26               NaN        Dog  Spayed Female       6 months   \n",
       "27               NaN        Dog  Spayed Female        5 years   \n",
       "28               NaN        Cat  Spayed Female       2 months   \n",
       "29               NaN        Cat  Neutered Male        7 years   \n",
       "...              ...        ...            ...            ...   \n",
       "26699       Behavior        Dog  Neutered Male        2 years   \n",
       "26700            NaN        Dog    Intact Male      10 months   \n",
       "26701        Partner        Dog  Intact Female      11 months   \n",
       "26702      In Kennel        Cat  Spayed Female        2 years   \n",
       "26703        Partner        Cat  Neutered Male        6 years   \n",
       "26704        Partner        Cat  Intact Female        4 weeks   \n",
       "26705        Partner        Cat  Intact Female       2 months   \n",
       "26706            NaN        Cat  Spayed Female       2 months   \n",
       "26707      Suffering        Cat        Unknown         1 year   \n",
       "26708        Partner        Dog  Neutered Male        2 years   \n",
       "26709            NaN        Dog  Spayed Female        1 month   \n",
       "26710        Partner        Dog  Intact Female        1 month   \n",
       "26711        Partner        Dog  Intact Female         1 year   \n",
       "26712            NaN        Dog  Neutered Male       12 years   \n",
       "26713      Suffering        Cat  Intact Female       18 years   \n",
       "26714            NaN        Cat  Spayed Female       2 months   \n",
       "26715            NaN        Dog  Spayed Female       2 months   \n",
       "26716        Offsite        Dog  Neutered Male       2 months   \n",
       "26717            NaN        Dog  Spayed Female        9 years   \n",
       "26718            NaN        Dog  Neutered Male       2 months   \n",
       "26719           SCRP        Cat        Unknown        2 years   \n",
       "26720            NaN        Cat  Spayed Female       2 months   \n",
       "26721         Foster        Cat  Spayed Female        5 years   \n",
       "26722           SCRP        Cat    Intact Male       5 months   \n",
       "26723            NaN        Dog  Neutered Male        6 years   \n",
       "26724        Partner        Cat    Intact Male        1 month   \n",
       "26725           SCRP        Cat  Spayed Female       3 months   \n",
       "26726            NaN        Dog  Neutered Male        4 years   \n",
       "26727        Partner        Cat    Intact Male        4 weeks   \n",
       "26728           SCRP        Cat    Intact Male         1 year   \n",
       "\n",
       "                                       Breed                Color  \n",
       "0                      Shetland Sheepdog Mix          Brown/White  \n",
       "1                     Domestic Shorthair Mix          Cream Tabby  \n",
       "2                               Pit Bull Mix           Blue/White  \n",
       "3                     Domestic Shorthair Mix           Blue Cream  \n",
       "4                Lhasa Apso/Miniature Poodle                  Tan  \n",
       "5          Cairn Terrier/Chihuahua Shorthair            Black/Tan  \n",
       "6                     Domestic Shorthair Mix           Blue Tabby  \n",
       "7                     Domestic Shorthair Mix          Brown Tabby  \n",
       "8              American Pit Bull Terrier Mix            Red/White  \n",
       "9                              Cairn Terrier                White  \n",
       "10                    Domestic Shorthair Mix                Black  \n",
       "11                   Miniature Schnauzer Mix               Silver  \n",
       "12                              Pit Bull Mix                Brown  \n",
       "13                     Yorkshire Terrier Mix            Black/Red  \n",
       "14                        Great Pyrenees Mix          White/Cream  \n",
       "15                    Domestic Shorthair Mix   Orange Tabby/White  \n",
       "16                    Domestic Shorthair Mix          Brown Tabby  \n",
       "17                              Pit Bull Mix          Brown/White  \n",
       "18                                Angora Mix                White  \n",
       "19                   Flat Coat Retriever Mix                Black  \n",
       "20                     Queensland Heeler Mix          Black/White  \n",
       "21                    Domestic Shorthair Mix                White  \n",
       "22                         Plott Hound/Boxer  Brown Brindle/White  \n",
       "23                       German Shepherd Mix          Brown/White  \n",
       "24                       German Shepherd Mix          Black/Brown  \n",
       "25                    Domestic Shorthair Mix         Orange Tabby  \n",
       "26        American Staffordshire Terrier Mix      Chocolate/White  \n",
       "27                   Chihuahua Shorthair Mix            White/Tan  \n",
       "28                    Domestic Shorthair Mix    Cream Tabby/White  \n",
       "29                          Russian Blue Mix                 Blue  \n",
       "...                                      ...                  ...  \n",
       "26699          American Pit Bull Terrier Mix          White/Black  \n",
       "26700         Great Pyrenees/Anatol Shepherd            Tan/Cream  \n",
       "26701               Jack Russell Terrier Mix          White/Black  \n",
       "26702                            Siamese Mix           Lynx Point  \n",
       "26703                  Domestic Longhair Mix           Seal Point  \n",
       "26704                 Domestic Shorthair Mix          White/Black  \n",
       "26705                 Domestic Shorthair Mix               Tortie  \n",
       "26706                 Domestic Shorthair Mix                Black  \n",
       "26707                 Domestic Shorthair Mix          Brown Tabby  \n",
       "26708                Chihuahua Shorthair Mix          White/Brown  \n",
       "26709                Chihuahua Shorthair Mix           Sable/Buff  \n",
       "26710  Chihuahua Shorthair/Yorkshire Terrier          Brown/Black  \n",
       "26711               Cocker Spaniel/Dachshund                 Buff  \n",
       "26712                            Rat Terrier        Chocolate/Tan  \n",
       "26713                  Domestic Longhair Mix               Tortie  \n",
       "26714                 Domestic Shorthair Mix         Orange Tabby  \n",
       "26715                            Pointer Mix          Black/White  \n",
       "26716                       Newfoundland Mix          White/Black  \n",
       "26717                        Bullmastiff Mix                Black  \n",
       "26718         Siberian Husky/German Shepherd       Black/Tricolor  \n",
       "26719                 Domestic Shorthair Mix    Brown Tabby/White  \n",
       "26720                 Domestic Shorthair Mix          Brown Tabby  \n",
       "26721                 Domestic Shorthair Mix                Black  \n",
       "26722                 Domestic Shorthair Mix         Orange Tabby  \n",
       "26723                      Staffordshire Mix           Blue/White  \n",
       "26724                 Domestic Shorthair Mix    Brown Tabby/White  \n",
       "26725                 Domestic Shorthair Mix          Brown Tabby  \n",
       "26726                Old English Bulldog Mix            White/Tan  \n",
       "26727                 Domestic Shorthair Mix                Black  \n",
       "26728                 Domestic Shorthair Mix    Brown Tabby/White  \n",
       "\n",
       "[26729 rows x 10 columns]"
      ]
     },
     "execution_count": 4,
     "metadata": {},
     "output_type": "execute_result"
    }
   ],
   "source": [
    "animals"
   ]
  },
  {
   "cell_type": "markdown",
   "metadata": {},
   "source": [
    "First, let's count how many cats and dogs we have in the shelter."
   ]
  },
  {
   "cell_type": "code",
   "execution_count": 7,
   "metadata": {
    "ExecuteTime": {
     "end_time": "2017-10-20T17:52:11.715839Z",
     "start_time": "2017-10-20T17:52:11.544771Z"
    }
   },
   "outputs": [
    {
     "data": {
      "text/plain": [
       "<matplotlib.axes._subplots.AxesSubplot at 0x105550e90>"
      ]
     },
     "execution_count": 7,
     "metadata": {},
     "output_type": "execute_result"
    },
    {
     "data": {
      "image/png": "[encoded data removed]",
      "text/plain": [
       "<matplotlib.figure.Figure at 0x105550950>"
      ]
     },
     "metadata": {},
     "output_type": "display_data"
    }
   ],
   "source": [
    "sns.countplot(animals.AnimalType, palette='Set3')"
   ]
  },
  {
   "cell_type": "markdown",
   "metadata": {},
   "source": [
    "Now, let's see how different outcomes are distributed."
   ]
  },
  {
   "cell_type": "code",
   "execution_count": 9,
   "metadata": {
    "ExecuteTime": {
     "end_time": "2017-10-20T18:17:39.902694Z",
     "start_time": "2017-10-20T18:17:39.762905Z"
    }
   },
   "outputs": [
    {
     "data": {
      "text/plain": [
       "Adoption           0.402896\n",
       "Transfer           0.352501\n",
       "Return_to_owner    0.179056\n",
       "Euthanasia         0.058177\n",
       "Died               0.007370\n",
       "Name: OutcomeType, dtype: float64"
      ]
     },
     "execution_count": 9,
     "metadata": {},
     "output_type": "execute_result"
    },
    {
     "data": {
      "image/png": "[encoded data removed]",
      "text/plain": [
       "<matplotlib.figure.Figure at 0x1056d1d90>"
      ]
     },
     "metadata": {},
     "output_type": "display_data"
    }
   ],
   "source": [
    "sns.countplot(animals.OutcomeType, palette='Set3')\n",
    "animals['OutcomeType'].value_counts(normalize=True)"
   ]
  },
  {
   "cell_type": "markdown",
   "metadata": {},
   "source": [
    "We can see that adoption and transfer are our leaders (good for poor animals)."
   ]
  },
  {
   "cell_type": "markdown",
   "metadata": {},
   "source": [
    "We have another column - sex upon outcome. "
   ]
  },
  {
   "cell_type": "code",
   "execution_count": 6,
   "metadata": {
    "ExecuteTime": {
     "end_time": "2017-09-15T14:58:48.514991Z",
     "start_time": "2017-09-15T14:58:48.348276Z"
    }
   },
   "outputs": [
    {
     "data": {
      "text/plain": [
       "<matplotlib.axes._subplots.AxesSubplot at 0x111884f10>"
      ]
     },
     "execution_count": 6,
     "metadata": {},
     "output_type": "execute_result"
    },
    {
     "data": {
      "image/png": "[encoded data removed]",
      "text/plain": [
       "<matplotlib.figure.Figure at 0x111d96ed0>"
      ]
     },
     "metadata": {},
     "output_type": "display_data"
    }
   ],
   "source": [
    "sns.countplot(animals.SexuponOutcome, palette='Set3')"
   ]
  },
  {
   "cell_type": "markdown",
   "metadata": {},
   "source": [
    "Actually, it contains two types of information: if animal was male or female and if it was neutered/spayed or intact. I hope it is a good idea to divided this column into two"
   ]
  },
  {
   "cell_type": "code",
   "execution_count": 7,
   "metadata": {
    "ExecuteTime": {
     "end_time": "2017-09-15T14:58:48.525958Z",
     "start_time": "2017-09-15T14:58:48.516947Z"
    },
    "collapsed": true
   },
   "outputs": [],
   "source": [
    "# functions to get new parameters from the column\n",
    "def get_sex(x):\n",
    "    x = str(x)\n",
    "    if 'Male' in x:\n",
    "        return 'male'\n",
    "    if 'Female' in x:\n",
    "        return 'female'\n",
    "    return 'unknown'\n",
    "\n",
    "def get_neutered(x):\n",
    "    x = str(x)\n",
    "    if 'Spayed' in x: \n",
    "        return 'neutered'\n",
    "    if 'Neutered' in x: \n",
    "        return 'neutered'\n",
    "    if 'Intact' in x: \n",
    "        return 'intact'\n",
    "    return 'unknown'\n"
   ]
  },
  {
   "cell_type": "code",
   "execution_count": 8,
   "metadata": {
    "ExecuteTime": {
     "end_time": "2017-09-15T14:58:48.696051Z",
     "start_time": "2017-09-15T14:58:48.528034Z"
    }
   },
   "outputs": [
    {
     "data": {
      "text/plain": [
       "<matplotlib.axes._subplots.AxesSubplot at 0x11188fad0>"
      ]
     },
     "execution_count": 8,
     "metadata": {},
     "output_type": "execute_result"
    },
    {
     "data": {
      "image/png": "[encoded data removed]",
      "text/plain": [
       "<matplotlib.figure.Figure at 0x1085f3a50>"
      ]
     },
     "metadata": {},
     "output_type": "display_data"
    }
   ],
   "source": [
    "animals['Sex'] = animals.SexuponOutcome.map(get_sex) \n",
    "animals['Neutered'] = animals.SexuponOutcome.map(get_neutered)\n",
    "# f, (ax1, ax2) = plt.subplots(1, 2, figsize=(15, 4))\n",
    "sns.countplot(animals.Sex, palette='Set3')\n"
   ]
  },
  {
   "cell_type": "code",
   "execution_count": 9,
   "metadata": {
    "ExecuteTime": {
     "end_time": "2017-09-15T14:58:48.855897Z",
     "start_time": "2017-09-15T14:58:48.697816Z"
    }
   },
   "outputs": [
    {
     "data": {
      "text/plain": [
       "<matplotlib.axes._subplots.AxesSubplot at 0x111dd0e10>"
      ]
     },
     "execution_count": 9,
     "metadata": {},
     "output_type": "execute_result"
    },
    {
     "data": {
      "image/png": "[encoded data removed]",
      "text/plain": [
       "<matplotlib.figure.Figure at 0x111864690>"
      ]
     },
     "metadata": {},
     "output_type": "display_data"
    }
   ],
   "source": [
    "sns.countplot(animals.Neutered, palette='Set3')"
   ]
  },
  {
   "cell_type": "markdown",
   "metadata": {},
   "source": [
    "Well, it seems like we have approximately equal number of male and female animals, and neutered (or spayed) prevail amongst them."
   ]
  },
  {
   "cell_type": "markdown",
   "metadata": {},
   "source": [
    "Also we have information about breed, and some animals has pure or mixed breed. I wonder if  breed purity has some impact on the fate of animal."
   ]
  },
  {
   "cell_type": "code",
   "execution_count": 10,
   "metadata": {
    "ExecuteTime": {
     "end_time": "2017-09-15T14:58:49.000362Z",
     "start_time": "2017-09-15T14:58:48.857652Z"
    }
   },
   "outputs": [
    {
     "data": {
      "text/plain": [
       "<matplotlib.axes._subplots.AxesSubplot at 0x112294e50>"
      ]
     },
     "execution_count": 10,
     "metadata": {},
     "output_type": "execute_result"
    },
    {
     "data": {
      "image/png": "[encoded data removed]",
      "text/plain": [
       "<matplotlib.figure.Figure at 0x111e4b910>"
      ]
     },
     "metadata": {},
     "output_type": "display_data"
    }
   ],
   "source": [
    "def get_mix(x):\n",
    "    x = str(x)\n",
    "    if 'Mix' in x: \n",
    "        return 'mix'\n",
    "    return 'not'\n",
    "animals['Mix'] = animals.Breed.apply(get_mix)\n",
    "sns.countplot(animals.Mix, palette='Set3')"
   ]
  },
  {
   "cell_type": "markdown",
   "metadata": {},
   "source": [
    "Well, the poor animals from the shelter can not boast of breed purity in most cases."
   ]
  },
  {
   "cell_type": "markdown",
   "metadata": {},
   "source": [
    "Now, let's see how different parameters influence on the outcome."
   ]
  },
  {
   "cell_type": "code",
   "execution_count": 11,
   "metadata": {
    "ExecuteTime": {
     "end_time": "2017-09-15T14:58:49.284105Z",
     "start_time": "2017-09-15T14:58:49.002251Z"
    }
   },
   "outputs": [
    {
     "data": {
      "text/plain": [
       "<matplotlib.axes._subplots.AxesSubplot at 0x1123b0550>"
      ]
     },
     "execution_count": 11,
     "metadata": {},
     "output_type": "execute_result"
    },
    {
     "data": {
      "image/png": "[encoded data removed]",
      "text/plain": [
       "<matplotlib.figure.Figure at 0x1122b6710>"
      ]
     },
     "metadata": {},
     "output_type": "display_data"
    }
   ],
   "source": [
    "sns.countplot(data=animals, x='OutcomeType',\n",
    "              hue='Sex')\n",
    "# sns.countplot(data=animals, x='Sex',\n",
    "#               hue='OutcomeType', ax=ax2)"
   ]
  },
  {
   "cell_type": "code",
   "execution_count": 12,
   "metadata": {
    "ExecuteTime": {
     "end_time": "2017-09-15T14:58:49.502024Z",
     "start_time": "2017-09-15T14:58:49.285719Z"
    }
   },
   "outputs": [
    {
     "data": {
      "text/plain": [
       "<matplotlib.axes._subplots.AxesSubplot at 0x11252d890>"
      ]
     },
     "execution_count": 12,
     "metadata": {},
     "output_type": "execute_result"
    },
    {
     "data": {
      "image/png": "[encoded data removed]",
      "text/plain": [
       "<matplotlib.figure.Figure at 0x11254b090>"
      ]
     },
     "metadata": {},
     "output_type": "display_data"
    }
   ],
   "source": [
    "sns.countplot(data=animals, x='Sex',\n",
    "              hue='OutcomeType')"
   ]
  },
  {
   "cell_type": "code",
   "execution_count": 13,
   "metadata": {
    "ExecuteTime": {
     "end_time": "2017-09-15T14:58:49.697357Z",
     "start_time": "2017-09-15T14:58:49.504552Z"
    }
   },
   "outputs": [
    {
     "data": {
      "text/plain": [
       "<matplotlib.axes._subplots.AxesSubplot at 0x112635fd0>"
      ]
     },
     "execution_count": 13,
     "metadata": {},
     "output_type": "execute_result"
    },
    {
     "data": {
      "image/png": "[encoded data removed]",
      "text/plain": [
       "<matplotlib.figure.Figure at 0x1125194d0>"
      ]
     },
     "metadata": {},
     "output_type": "display_data"
    }
   ],
   "source": [
    "sns.countplot(data=animals, x='OutcomeType',\n",
    "              hue='AnimalType')\n",
    "# sns.countplot(data=animals, x='AnimalType',hue='OutcomeType', ax=ax2)"
   ]
  },
  {
   "cell_type": "markdown",
   "metadata": {},
   "source": [
    "Interesting notice: dogs tend to be returned to owner more often than cats. And cats are transferred more often than dogs."
   ]
  },
  {
   "cell_type": "code",
   "execution_count": 14,
   "metadata": {
    "ExecuteTime": {
     "end_time": "2017-09-15T14:58:49.930292Z",
     "start_time": "2017-09-15T14:58:49.700432Z"
    }
   },
   "outputs": [
    {
     "data": {
      "text/plain": [
       "<matplotlib.axes._subplots.AxesSubplot at 0x1123b0650>"
      ]
     },
     "execution_count": 14,
     "metadata": {},
     "output_type": "execute_result"
    },
    {
     "data": {
      "image/png": "[encoded data removed]",
      "text/plain": [
       "<matplotlib.figure.Figure at 0x112662590>"
      ]
     },
     "metadata": {},
     "output_type": "display_data"
    }
   ],
   "source": [
    "# f, (ax1, ax2) = plt.subplots(1, 2, figsize=(16, 4))\n",
    "sns.countplot(data=animals, x='OutcomeType',hue='Neutered')\n",
    "# sns.countplot(data=animals, x='Neutered',hue='OutcomeType', ax=ax2)"
   ]
  },
  {
   "cell_type": "markdown",
   "metadata": {},
   "source": [
    "Neutered animals have high chances to be adopted, while intact animals are more likely to be transferred."
   ]
  },
  {
   "cell_type": "code",
   "execution_count": 15,
   "metadata": {
    "ExecuteTime": {
     "end_time": "2017-09-15T14:58:50.141165Z",
     "start_time": "2017-09-15T14:58:49.931953Z"
    }
   },
   "outputs": [
    {
     "data": {
      "text/plain": [
       "<matplotlib.axes._subplots.AxesSubplot at 0x1130fb090>"
      ]
     },
     "execution_count": 15,
     "metadata": {},
     "output_type": "execute_result"
    },
    {
     "data": {
      "image/png": "[encoded data removed]",
      "text/plain": [
       "<matplotlib.figure.Figure at 0x112922110>"
      ]
     },
     "metadata": {},
     "output_type": "display_data"
    }
   ],
   "source": [
    "# f, (ax1, ax2) = plt.subplots(1, 2, figsize=(16, 4))\n",
    "# sns.countplot(data=animals, x='OutcomeType',hue='Mix')\n",
    "sns.countplot(data=animals, x='Mix',hue='OutcomeType')"
   ]
  },
  {
   "cell_type": "markdown",
   "metadata": {},
   "source": [
    "Nothing special. Apparently, my suggestion about mixed breed and its effect on outcome was wrong."
   ]
  },
  {
   "cell_type": "markdown",
   "metadata": {},
   "source": [
    "Another one parameter is age, but we have it in different units: years, months, weeks and days. Let's calculate every age in years and see if there is something interesting inside."
   ]
  },
  {
   "cell_type": "code",
   "execution_count": 16,
   "metadata": {
    "ExecuteTime": {
     "end_time": "2017-09-15T14:58:50.153562Z",
     "start_time": "2017-09-15T14:58:50.143898Z"
    },
    "collapsed": true
   },
   "outputs": [],
   "source": [
    "def calc_age_in_years(x):\n",
    "    x = str(x)\n",
    "    if x == 'nan': \n",
    "        return np.nan\n",
    "    age = int(x.split()[0]) \n",
    "    if 'year' in x: \n",
    "        return age \n",
    "    if 'month' in x: \n",
    "        return age / 12.\n",
    "    if 'week' in x: \n",
    "        return age / 52.\n",
    "    if 'day' in x: \n",
    "        return age / 365.25\n",
    "    else:\n",
    "        raise 'Unknown format'"
   ]
  },
  {
   "cell_type": "code",
   "execution_count": 17,
   "metadata": {
    "ExecuteTime": {
     "end_time": "2017-09-15T14:58:50.412423Z",
     "start_time": "2017-09-15T14:58:50.158785Z"
    }
   },
   "outputs": [
    {
     "data": {
      "text/plain": [
       "<matplotlib.axes._subplots.AxesSubplot at 0x112a32610>"
      ]
     },
     "execution_count": 17,
     "metadata": {},
     "output_type": "execute_result"
    },
    {
     "data": {
      "image/png": "[encoded data removed]",
      "text/plain": [
       "<matplotlib.figure.Figure at 0x111e4b990>"
      ]
     },
     "metadata": {},
     "output_type": "display_data"
    }
   ],
   "source": [
    "animals['AgeInYears'] = animals.AgeuponOutcome.map(\n",
    "    calc_age_in_years) \n",
    "sns.distplot(animals.AgeInYears, bins = 20, kde=False)"
   ]
  },
  {
   "cell_type": "code",
   "execution_count": 18,
   "metadata": {
    "ExecuteTime": {
     "end_time": "2017-09-15T14:58:50.695608Z",
     "start_time": "2017-09-15T14:58:50.414353Z"
    }
   },
   "outputs": [
    {
     "data": {
      "text/plain": [
       "<matplotlib.axes._subplots.AxesSubplot at 0x1134a4050>"
      ]
     },
     "execution_count": 18,
     "metadata": {},
     "output_type": "execute_result"
    },
    {
     "data": {
      "image/png": "[encoded data removed]",
      "text/plain": [
       "<matplotlib.figure.Figure at 0x11311ed90>"
      ]
     },
     "metadata": {},
     "output_type": "display_data"
    }
   ],
   "source": [
    "animals.AgeInYears.hist() "
   ]
  },
  {
   "cell_type": "markdown",
   "metadata": {},
   "source": [
    "Most of the animals in the shelter are 0-1 years old. Let's see if age has some effect on outcome."
   ]
  },
  {
   "cell_type": "code",
   "execution_count": 19,
   "metadata": {
    "ExecuteTime": {
     "end_time": "2017-09-15T14:58:50.722066Z",
     "start_time": "2017-09-15T14:58:50.700902Z"
    },
    "collapsed": true
   },
   "outputs": [],
   "source": [
    "def calc_age_category(x):\n",
    "    if x < 3: return 'young'\n",
    "    if x < 5: return 'young adult'\n",
    "    if x < 10: return 'adult'\n",
    "    return 'old'\n",
    "animals['AgeCategory'] = animals.AgeInYears.apply(calc_age_category)"
   ]
  },
  {
   "cell_type": "code",
   "execution_count": 20,
   "metadata": {
    "ExecuteTime": {
     "end_time": "2017-09-15T14:58:51.117619Z",
     "start_time": "2017-09-15T14:58:50.725833Z"
    }
   },
   "outputs": [
    {
     "data": {
      "text/plain": [
       "<matplotlib.axes._subplots.AxesSubplot at 0x1135132d0>"
      ]
     },
     "execution_count": 20,
     "metadata": {},
     "output_type": "execute_result"
    },
    {
     "data": {
      "image/png": "[encoded data removed]",
      "text/plain": [
       "<matplotlib.figure.Figure at 0x11372b5d0>"
      ]
     },
     "metadata": {},
     "output_type": "display_data"
    }
   ],
   "source": [
    "# sns.countplot(data=animals, x='OutcomeType',hue='AgeCategory')\n",
    "sns.countplot(data=animals, x='AgeCategory',hue='OutcomeType')"
   ]
  },
  {
   "cell_type": "markdown",
   "metadata": {},
   "source": [
    "Interesting that young cats and dogs have much higher chances to be adopted or transferred than to be returned to owner or something else, while older animals with approximately equal probability can be adopted, transferred or returned."
   ]
  }
 ],
 "metadata": {
  "kernelspec": {
   "display_name": "Python 2",
   "language": "python",
   "name": "python2"
  },
  "language_info": {
   "codemirror_mode": {
    "name": "ipython",
    "version": 2
   },
   "file_extension": ".py",
   "mimetype": "text/x-python",
   "name": "python",
   "nbconvert_exporter": "python",
   "pygments_lexer": "ipython2",
   "version": "2.7.13"
  }
 },
 "nbformat": 4,
 "nbformat_minor": 1
}
