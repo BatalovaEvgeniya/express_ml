{
 "cells": [
  {
   "cell_type": "markdown",
   "metadata": {},
   "source": [
    "## Задание:"
   ]
  },
  {
   "cell_type": "markdown",
   "metadata": {},
   "source": [
    "... если вы в какой-то момент застряли, переходите к следующей задаче. \n",
    "\n",
    "Если не помогает, гляньте соседний ноутбук: python_numpy_tutorial.ipynb\n",
    "\n",
    "Если совсем тяжело, посмотрите курс по Python (там же numpy и pandas) на Степике: https://stepik.org/course/Программирование-на-Python-67"
   ]
  },
  {
   "cell_type": "markdown",
   "metadata": {},
   "source": [
    "##### 0. Нулевая задача: выполните эту ячейку:"
   ]
  },
  {
   "cell_type": "code",
   "execution_count": 1,
   "metadata": {
    "ExecuteTime": {
     "end_time": "2018-07-23T14:03:44.075979Z",
     "start_time": "2018-07-23T14:03:43.698425Z"
    }
   },
   "outputs": [],
   "source": [
    "# автоматическое отображение изображений в ноутбуке\n",
    "%matplotlib inline\n",
    "\n",
    "# чтобы писать np.array вместо numpy.array\n",
    "import numpy as np\n",
    "\n",
    "# plt - модуль для рисования графиков\n",
    "import matplotlib.pyplot as plt"
   ]
  },
  {
   "cell_type": "markdown",
   "metadata": {},
   "source": [
    "##### 1. (1 балл) Что больше, $\\pi^e$ или $e^\\pi$? Выведете результат $\\pi^e > e^\\pi$ \n",
    "\n",
    "Воспользуйтесь встроенными константами np.pi и np.e"
   ]
  },
  {
   "cell_type": "code",
   "execution_count": null,
   "metadata": {},
   "outputs": [],
   "source": []
  },
  {
   "cell_type": "markdown",
   "metadata": {},
   "source": [
    "##### 2. (4 балла) Фильтрация элементов в массиве\n",
    "\n",
    "(1 балл) Создайте массив из последовательности чисел от 1 до 10 (функция <a href=\"https://docs.scipy.org/doc/numpy/reference/generated/numpy.arange.html\">np.arange</a>)\n",
    "\n",
    "(1 балл) Выведите этот массив в обратном порядке. \n",
    "\n",
    "(1 балл) Выведите каждый второй элемент. \n",
    "\n",
    "(1 балл) Выведите элементы, большие числа 3. (<a href=\"https://docs.scipy.org/doc/numpy/reference/arrays.indexing.html\">numpy indexing tutorial</a>)"
   ]
  },
  {
   "cell_type": "code",
   "execution_count": null,
   "metadata": {},
   "outputs": [],
   "source": []
  },
  {
   "cell_type": "markdown",
   "metadata": {},
   "source": [
    "##### 3. (4 балла) Операции с массивами\n",
    "\n",
    "(1 балл) Создайте 5 одномерных массивов длины 7: первый из единиц, второй из двоек и т.д.\n",
    "\n",
    "(1 балл) Объедините массивы с помощью функции <a href=\"https://docs.scipy.org/doc/numpy/reference/generated/numpy.vstack.html\">np.vstack</a> в матрицу A (на самом деле 2-мерный массив).\n",
    "\n",
    "(1 балл) Сделайте копию А с помощью <a href=\"https://docs.scipy.org/doc/numpy/reference/generated/numpy.copy.html\">np.copy</a> и назовите её B.\n",
    "\n",
    "(1 балл) Вычислите <a href=\"https://ru.wikipedia.org/wiki/Умножение_матриц\">матричное произведение</a> (оператор @) между матрицей A и B транспонированной (метод <a href=\"https://docs.scipy.org/doc/numpy-1.9.1/reference/generated/numpy.ndarray.T.html\">.T</a>).\n",
    "\n",
    "Выведите ответ."
   ]
  },
  {
   "cell_type": "code",
   "execution_count": null,
   "metadata": {},
   "outputs": [],
   "source": []
  },
  {
   "cell_type": "markdown",
   "metadata": {},
   "source": [
    "##### 4. (2 балла) Max / min\n",
    "\n",
    "Найдите максимум и минимум массива A (методы <a href=\"https://docs.scipy.org/doc/numpy/reference/generated/numpy.ndarray.max.html\">.max</a> и <a href=\"https://docs.scipy.org/doc/numpy/reference/generated/numpy.ndarray.min.html\">.min</a> класса numpy.ndarray). Так же найдите максимумы в строках и столбцах (параметр axis)."
   ]
  },
  {
   "cell_type": "code",
   "execution_count": null,
   "metadata": {},
   "outputs": [],
   "source": []
  },
  {
   "cell_type": "markdown",
   "metadata": {},
   "source": [
    "##### 5. (6 баллов) Индексирование*\n",
    "Напишите функцию, возвращающую максимальный элемент в векторе `x` среди элементов, перед которыми стоит число 0. <br>\n",
    "Для `x = np.array([6, 2, 0, 3, 0, 0, 5, 7, 0])` ответом является `5`. Если нулевых элементов нет, функция должна возвращать None.\n",
    "\n",
    "Для решения можно использовать функцию <a href=\"https://docs.scipy.org/doc/numpy/reference/generated/numpy.where.html\">np.where</a>. Эта функция может быть использована для получения индексов элементов в массиве, которые подчиняются логическому условию. Например:\n",
    "`np.where(np.array([1, 4, 7, 5, 2]) % 2 == 0)[0]` возвращает индексы четных элементов: `array([1, 4])`"
   ]
  },
  {
   "cell_type": "code",
   "execution_count": null,
   "metadata": {},
   "outputs": [],
   "source": []
  },
  {
   "cell_type": "markdown",
   "metadata": {
    "collapsed": true
   },
   "source": [
    "##### 6. (2 балла) Гистограмма значений\n",
    "Превратите матрицу A в 1D массив с помощью метода <a href=\"https://docs.scipy.org/doc/numpy/reference/generated/numpy.ndarray.flatten.html\">.flatten()</a> и выведите гистограмму значений результата с помощью функции <a href=\"https://matplotlib.org/devdocs/api/_as_gen/matplotlib.pyplot.hist.html\"> plt.hist()</a>. Она принимает на вход массив. Так же можно задать параметр `bins=100`, задающий количество столбиков гистограммы."
   ]
  },
  {
   "cell_type": "code",
   "execution_count": null,
   "metadata": {},
   "outputs": [],
   "source": []
  },
  {
   "cell_type": "markdown",
   "metadata": {},
   "source": [
    "##### 7. (6 баллов) Матожидание числа угадываний*\n",
    "\n",
    "Игорь и Лена играют в игру: Лена загадала число от 1 до 100, а Игорь угадывает. Игорь может называть число, а Лена отвечает \"да\", если число угадано правильно, и \"нет\" если это не так. Дважды спрашивать про одно и то же число нельзя (и не имеет смысла).\n",
    "\n",
    "За сколько в среднем попыток Игорь угадает число? Придумайте схему испытаний, проведите необходимое количество замеров. В ответе напишите матожидание (метод <a href=\"https://docs.scipy.org/doc/numpy-1.13.0/reference/generated/numpy.mean.html\">np.mean</a>), стандартное отклонение (метод <a href=\"https://docs.scipy.org/doc/numpy-1.13.0/reference/generated/numpy.std.html\">np.std</a>) и выведите гистограму полученных значений. "
   ]
  },
  {
   "cell_type": "code",
   "execution_count": null,
   "metadata": {
    "collapsed": true
   },
   "outputs": [],
   "source": []
  },
  {
   "cell_type": "markdown",
   "metadata": {},
   "source": [
    "<img src=\"http://imgs.xkcd.com/comics/psychic.png\">"
   ]
  }
 ],
 "metadata": {
  "kernelspec": {
   "display_name": "Python 3",
   "language": "python",
   "name": "python3"
  },
  "language_info": {
   "codemirror_mode": {
    "name": "ipython",
    "version": 3
   },
   "file_extension": ".py",
   "mimetype": "text/x-python",
   "name": "python",
   "nbconvert_exporter": "python",
   "pygments_lexer": "ipython3",
   "version": "3.6.4"
  }
 },
 "nbformat": 4,
 "nbformat_minor": 1
}
