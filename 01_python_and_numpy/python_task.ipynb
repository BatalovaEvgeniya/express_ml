{
 "cells": [
  {
   "cell_type": "markdown",
   "metadata": {
    "ExecuteTime": {
     "end_time": "2018-07-23T14:15:49.812245Z",
     "start_time": "2018-07-23T14:15:49.799852Z"
    }
   },
   "source": [
    "##### 1. (2 балла) \n",
    "\n",
    "На вход вам приходит вещественное число, обозначающее время, которое необходимо потратить на задачу (создайте для этого переменную duration). Выведите, сколько времени уйдет, чтобы выполнить 3 такие задачи.\n",
    "Ввод: вещественное число, которое обозначает количество часов (нецелое, например 1.5 -значит 1 час и 0.5 часа, то есть 30 минут) Вывод: hh:mm (часы:минуты)"
   ]
  },
  {
   "cell_type": "code",
   "execution_count": null,
   "metadata": {},
   "outputs": [],
   "source": []
  },
  {
   "cell_type": "markdown",
   "metadata": {
    "ExecuteTime": {
     "end_time": "2018-07-23T14:16:20.925801Z",
     "start_time": "2018-07-23T14:16:20.919099Z"
    }
   },
   "source": [
    "##### 2. (2 балла) \n",
    "\n",
    "Электронные часы показывают время в формате hh:mm:ss, то есть сначала записывается количество часов, потом обязательно двузначное количество минут, затем обязательно двузначное количество секунд. С начала суток прошло N секунд. Выведите, что покажут часы. "
   ]
  },
  {
   "cell_type": "code",
   "execution_count": null,
   "metadata": {},
   "outputs": [],
   "source": []
  },
  {
   "cell_type": "markdown",
   "metadata": {},
   "source": [
    "##### 3. (2 балла) \n",
    "\n",
    "На вход даются числа a, b, натуральные, a < b. Задача вывести числа Фиббоначи с номерами от a до b. [Число Фибоначи](https://ru.wikipedia.org/wiki/Числа_Фибоначчи)"
   ]
  },
  {
   "cell_type": "code",
   "execution_count": null,
   "metadata": {},
   "outputs": [],
   "source": []
  },
  {
   "cell_type": "markdown",
   "metadata": {
    "ExecuteTime": {
     "end_time": "2018-07-23T14:23:25.025372Z",
     "start_time": "2018-07-23T14:23:25.012927Z"
    }
   },
   "source": [
    "##### 4. (1 балл) \n",
    "\n",
    "На вход вам приходит строка, в которой буква h встречается минимум два раза. Выведите эту строку без первого и последнего вхождение буквы h, а также без всех символов, находящихся между ними."
   ]
  },
  {
   "cell_type": "code",
   "execution_count": null,
   "metadata": {},
   "outputs": [],
   "source": []
  },
  {
   "cell_type": "markdown",
   "metadata": {},
   "source": [
    "##### 5. (блиц, 3 балла) \n",
    "\n",
    "Сколько различных слов в стихотворении poem?"
   ]
  },
  {
   "cell_type": "code",
   "execution_count": 5,
   "metadata": {
    "ExecuteTime": {
     "end_time": "2018-07-23T14:25:44.978833Z",
     "start_time": "2018-07-23T14:25:44.975002Z"
    }
   },
   "outputs": [],
   "source": [
    "poem = \"\"\"5 little piges.\n",
    "This little pig went to market,\n",
    "This little pig stayed at home,\n",
    "This little pig had roast beef,\n",
    "And this little pig had none,\n",
    "This little pig said, \"Wee, wee, wee!\n",
    "I can't find my way home.\"\"\""
   ]
  },
  {
   "cell_type": "code",
   "execution_count": null,
   "metadata": {},
   "outputs": [],
   "source": []
  }
 ],
 "metadata": {
  "kernelspec": {
   "display_name": "Python 3",
   "language": "python",
   "name": "python3"
  },
  "language_info": {
   "codemirror_mode": {
    "name": "ipython",
    "version": 3
   },
   "file_extension": ".py",
   "mimetype": "text/x-python",
   "name": "python",
   "nbconvert_exporter": "python",
   "pygments_lexer": "ipython3",
   "version": "3.6.4"
  }
 },
 "nbformat": 4,
 "nbformat_minor": 2
}
