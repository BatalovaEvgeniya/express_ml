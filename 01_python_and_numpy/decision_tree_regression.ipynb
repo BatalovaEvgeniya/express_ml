{
 "cells": [
  {
   "cell_type": "markdown",
   "metadata": {},
   "source": [
    "# Переобучение\n",
    "\n",
    "Википедия: <br>\"<b>Переобучение</b> (переподгонка, пере- в значении «слишком», англ. overfitting) в машинном обучении и статистике — явление, когда построенная модель хорошо объясняет примеры из обучающей выборки, но относительно плохо работает на примерах, не участвовавших в обучении (на примерах из тестовой выборки).\"\n",
    "\n",
    "<img src=\"../imgs/overfitting1.JPG\" width=600>\n",
    "<img src=\"../imgs/overfitting2.JPG\" width=600>\n",
    "<img src=\"../imgs/overfitting3.JPG\" width=600>\n",
    "<img src=\"../imgs/overfitting4.JPG\" width=600>\n",
    "\n",
    "<br>\n",
    "<img src=\"../imgs/overfitting.png\" align=left>\n",
    "<img src=\"../imgs/overfitting2.png\">"
   ]
  },
  {
   "cell_type": "markdown",
   "metadata": {
    "ExecuteTime": {
     "end_time": "2018-07-25T12:25:04.819001Z",
     "start_time": "2018-07-25T12:25:04.812183Z"
    }
   },
   "source": [
    "# Решающее дерево в задаче регрессии"
   ]
  },
  {
   "cell_type": "code",
   "execution_count": 8,
   "metadata": {
    "ExecuteTime": {
     "end_time": "2018-07-25T12:15:08.832895Z",
     "start_time": "2018-07-25T12:15:08.818187Z"
    }
   },
   "outputs": [],
   "source": [
    "%matplotlib inline\n",
    "import seaborn as sns\n",
    "import numpy as np\n",
    "import matplotlib.pyplot as plt"
   ]
  },
  {
   "cell_type": "code",
   "execution_count": 26,
   "metadata": {
    "ExecuteTime": {
     "end_time": "2018-07-25T12:22:14.570623Z",
     "start_time": "2018-07-25T12:22:14.543264Z"
    }
   },
   "outputs": [],
   "source": [
    "from sklearn.tree import DecisionTreeRegressor\n",
    "\n",
    "def create_random_dataset(function):\n",
    "    rng = np.random.RandomState(1)\n",
    "    X = np.sort(5 * rng.rand(80, 1), axis=0)\n",
    "    \n",
    "    if function == 'sin':\n",
    "        y = np.sin(X).ravel()\n",
    "    if function == 'piecewise':\n",
    "        y = np.piecewise(X.flatten(), [X.flatten() < 3, X.flatten() >= 3], [-1, 1]).ravel()\n",
    "    \n",
    "    y[::2] += 1 * (0.5 - rng.rand(40))\n",
    "    return X, y\n",
    "\n",
    "X, y = create_random_dataset('piecewise')"
   ]
  },
  {
   "cell_type": "code",
   "execution_count": 33,
   "metadata": {
    "ExecuteTime": {
     "end_time": "2018-07-25T12:23:39.624145Z",
     "start_time": "2018-07-25T12:23:39.401085Z"
    }
   },
   "outputs": [
    {
     "data": {
      "image/png": "[encoded data removed]",
      "text/plain": [
       "<Figure size 720x504 with 1 Axes>"
      ]
     },
     "metadata": {},
     "output_type": "display_data"
    }
   ],
   "source": [
    "def fit_predict_plot(max_depth=1, mse_tree=True, mae_tree=False):\n",
    "    clf = DecisionTreeRegressor(max_depth=max_depth,\n",
    "                                random_state=1)\n",
    "    clf.fit(X, y)\n",
    "    plt.figure(figsize=(10, 7))\n",
    "    plt.scatter(X, y, c=\"darkorange\", label=\"data\")\n",
    "    y_pred = clf.predict(X_test)\n",
    "    plt.plot(X_test, y_pred, color=\"cornflowerblue\", \n",
    "             label='max_depth=' + str(max_depth), linewidth=2)\n",
    "    \n",
    "    if mae_tree:\n",
    "        clf2 = DecisionTreeRegressor(max_depth=max_depth, \n",
    "                                     criterion='mae',\n",
    "                                     random_state=1)\n",
    "        clf2.fit(X, y)\n",
    "        y_pred2 = clf2.predict(X_test)\n",
    "        plt.plot(X_test, y_pred2, color=\"green\", label='max_depth=' + str(max_depth), linewidth=2)\n",
    "    \n",
    "    plt.xlabel(\"data\")\n",
    "    plt.ylabel(\"target\")\n",
    "    plt.title(\"Decision Tree Regression\")\n",
    "    plt.legend()\n",
    "    plt.show()\n",
    "    \n",
    "\n",
    "fit_predict_plot(max_depth=1)"
   ]
  },
  {
   "cell_type": "code",
   "execution_count": null,
   "metadata": {},
   "outputs": [],
   "source": []
  }
 ],
 "metadata": {
  "kernelspec": {
   "display_name": "Python 3",
   "language": "python",
   "name": "python3"
  },
  "language_info": {
   "codemirror_mode": {
    "name": "ipython",
    "version": 3
   },
   "file_extension": ".py",
   "mimetype": "text/x-python",
   "name": "python",
   "nbconvert_exporter": "python",
   "pygments_lexer": "ipython3",
   "version": "3.6.4"
  }
 },
 "nbformat": 4,
 "nbformat_minor": 2
}
