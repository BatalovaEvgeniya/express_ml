{
 "cells": [
  {
   "cell_type": "markdown",
   "metadata": {},
   "source": [
    "##### 1. (0 баллов) \n",
    "\n",
    "Загрузите из sklearn датасет цен на жилье в Бостоне.\n",
    "<br>\n",
    "Разделите данные на 90% обучающую и тестовую выборку с помощью функции <a href=\"http://scikit-learn.org/stable/modules/generated/sklearn.model_selection.train_test_split.html\">train_test_split</a>\n",
    "<br>\n",
    "Разделите данные на два numpy массива: массив фич и массив с целевой переменной.\n",
    "<br>\n",
    "<br>\n",
    "Описание датасета [по ссылке.](http://scikit-learn.org/stable/datasets/index.html#boston-house-prices-dataset)\n",
    "<br>\n",
    "Документация и пример использования [по ссылке.](http://scikit-learn.org/stable/modules/generated/sklearn.datasets.load_boston.html)"
   ]
  },
  {
   "cell_type": "code",
   "execution_count": null,
   "metadata": {},
   "outputs": [],
   "source": []
  },
  {
   "cell_type": "markdown",
   "metadata": {},
   "source": [
    "##### 2. <b>(2 балла)</b>\n",
    "\n",
    "Обучите [RandomForestRegressor](http://scikit-learn.org/stable/modules/generated/sklearn.ensemble.RandomForestRegressor.html) на трейне. \n",
    "\n",
    "Примените модель на тестовых данных. (метод predict)\n",
    "<br>\n",
    "Посчитайте ошибку на трейне и на тесте (mse или mae, в зависимости от того, что вы использовали в обучении).\n",
    "<br>\n",
    "Как это сделать, можно посмотреть по ссылкам:\n",
    "[mae](http://scikit-learn.org/stable/modules/generated/sklearn.metrics.mean_absolute_error.html)\n",
    "[mse](http://scikit-learn.org/stable/modules/generated/sklearn.metrics.mean_squared_error.html)\n"
   ]
  },
  {
   "cell_type": "code",
   "execution_count": null,
   "metadata": {},
   "outputs": [],
   "source": []
  },
  {
   "cell_type": "markdown",
   "metadata": {},
   "source": [
    "#### 3. \n",
    "Попробуйте поварьировать такие параметры, как: \n",
    "- <b>(1 балл)</b> количество деревьев (n_estimators)\n",
    "- <b>(1 балл)</b> функция потерь (mse или mae)\n",
    "- <b>(1 балл)</b> какие фичи использовать в обучении\n",
    "- <b>(1 балл)</b> число фич в сплите (max_features)\n",
    "- <b>(1 балл)</b> использование bootstrap (bootstrap=True)\n",
    "\n",
    "Как себя ведет ошибка на трейне и тесте? Какие выводы можно сделать?"
   ]
  },
  {
   "cell_type": "code",
   "execution_count": null,
   "metadata": {},
   "outputs": [],
   "source": []
  },
  {
   "cell_type": "markdown",
   "metadata": {},
   "source": [
    "##### 4. (3 балла) \n",
    "\n",
    "Зафиксируя наиболее оптимальные параметры из предыдущего пункта, постройте графики функции ошибки в зависимости от параметра max_depth на train и test. При каком значении max_depth происходит переобучение? Обоснуйте ответ"
   ]
  },
  {
   "cell_type": "code",
   "execution_count": null,
   "metadata": {},
   "outputs": [],
   "source": []
  }
 ],
 "metadata": {
  "kernelspec": {
   "display_name": "Python 3",
   "language": "python",
   "name": "python3"
  },
  "language_info": {
   "codemirror_mode": {
    "name": "ipython",
    "version": 3
   },
   "file_extension": ".py",
   "mimetype": "text/x-python",
   "name": "python",
   "nbconvert_exporter": "python",
   "pygments_lexer": "ipython3",
   "version": "3.6.4"
  }
 },
 "nbformat": 4,
 "nbformat_minor": 2
}
