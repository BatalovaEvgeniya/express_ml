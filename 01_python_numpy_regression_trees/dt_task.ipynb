{
 "cells": [
  {
   "cell_type": "markdown",
   "metadata": {},
   "source": [
    "##### 1. (1 балл) \n",
    "\n",
    "Загрузите из sklearn датасет цен на жилье в Бостоне.\n",
    "<br>\n",
    "Разделите данные на 90% обучающую и тестовую выборку\n",
    "<br>\n",
    "Разделите данные на два numpy массива: массив фич и массив с целевой переменной.\n",
    "<br>\n",
    "<br>\n",
    "Описание датасета [по ссылке.](http://scikit-learn.org/stable/datasets/index.html#boston-house-prices-dataset)\n",
    "<br>\n",
    "Документация и пример использования [по ссылке.](http://scikit-learn.org/stable/modules/generated/sklearn.datasets.load_boston.html)"
   ]
  },
  {
   "cell_type": "code",
   "execution_count": null,
   "metadata": {},
   "outputs": [],
   "source": []
  },
  {
   "cell_type": "markdown",
   "metadata": {},
   "source": [
    "##### 2.\n",
    "\n",
    "Обучите Decision Tree.\n",
    "<br>\n",
    "<br>\n",
    "Попробуйте поварьировать такие параметры, как: \n",
    "<br>\n",
    "функция потерь (mse или mae)\n",
    "<br>\n",
    "максимальная глубина дерева\n",
    "<br>\n",
    "какие фичи использовать в обучении\n",
    "<br>\n",
    "число фич в сплите\n",
    "<br>\n",
    "число примеров в сплите\n",
    "<br>\n",
    "<br>\n",
    "Использование decision tree в sklearn: [примеры](http://scikit-learn.org/stable/modules/generated/sklearn.tree.DecisionTreeRegressor.html#examples-using-sklearn-tree-decisiontreeregressor)"
   ]
  },
  {
   "cell_type": "code",
   "execution_count": null,
   "metadata": {},
   "outputs": [],
   "source": []
  },
  {
   "cell_type": "markdown",
   "metadata": {},
   "source": [
    "##### 3.\n",
    "\n",
    "Прогоните классификатор на тестовых данных.\n",
    "<br>\n",
    "Посчитайте ошибку на трейне и на тесте (mse или mae, в зависимости от того, что вы использовали в обучении).\n",
    "<br>\n",
    "Как это сделать, можно посмотреть по ссылкам:\n",
    "[mae](http://scikit-learn.org/stable/modules/generated/sklearn.metrics.mean_absolute_error.html)\n",
    "[mse](http://scikit-learn.org/stable/modules/generated/sklearn.metrics.mean_squared_error.html)"
   ]
  },
  {
   "cell_type": "code",
   "execution_count": null,
   "metadata": {},
   "outputs": [],
   "source": []
  },
  {
   "cell_type": "markdown",
   "metadata": {},
   "source": [
    "##### 4.\n",
    "\n",
    "На ваш взгляд, произошло ли переобучение? Обоснуйте свой ответ."
   ]
  },
  {
   "cell_type": "code",
   "execution_count": null,
   "metadata": {},
   "outputs": [],
   "source": []
  },
  {
   "cell_type": "markdown",
   "metadata": {},
   "source": [
    "##### 5. Добавьте бустинг в обучение классификатора.\n",
    "\n",
    "Можно пользоваться [примером](https://plot.ly/scikit-learn/plot-adaboost-regression/)"
   ]
  },
  {
   "cell_type": "code",
   "execution_count": null,
   "metadata": {},
   "outputs": [],
   "source": []
  },
  {
   "cell_type": "markdown",
   "metadata": {},
   "source": [
    "##### 6. Сравните ошибку классификатора с бустингом и без."
   ]
  },
  {
   "cell_type": "code",
   "execution_count": null,
   "metadata": {},
   "outputs": [],
   "source": []
  },
  {
   "cell_type": "markdown",
   "metadata": {},
   "source": [
    "##### 7. Попробуйте повторить пункты 2-6, варьируя параметры в обучении. Запишите свой лучший результат и как он получен."
   ]
  },
  {
   "cell_type": "code",
   "execution_count": null,
   "metadata": {},
   "outputs": [],
   "source": []
  }
 ],
 "metadata": {
  "kernelspec": {
   "display_name": "Python 3",
   "language": "python",
   "name": "python3"
  },
  "language_info": {
   "codemirror_mode": {
    "name": "ipython",
    "version": 3
   },
   "file_extension": ".py",
   "mimetype": "text/x-python",
   "name": "python",
   "nbconvert_exporter": "python",
   "pygments_lexer": "ipython3",
   "version": "3.6.3"
  }
 },
 "nbformat": 4,
 "nbformat_minor": 2
}
