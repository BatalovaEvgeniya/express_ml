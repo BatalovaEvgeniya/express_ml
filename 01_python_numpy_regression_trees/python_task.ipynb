{
 "cells": [
  {
   "cell_type": "markdown",
   "metadata": {
    "ExecuteTime": {
     "end_time": "2018-07-23T14:15:49.812245Z",
     "start_time": "2018-07-23T14:15:49.799852Z"
    }
   },
   "source": [
    "##### 1. (2 балла) \n",
    "\n",
    "На вход вам приходит вещественное число, обозначающее время, которое необходимо потратить на задачу (создайте для этого переменную duration). \n",
    "<br>\n",
    "Выведите, сколько времени уйдет, чтобы выполнить 3 такие задачи.\n",
    "<br>\n",
    "__Ввод:__ вещественное число, которое обозначает количество часов (нецелое, например 1.5 -значит 1 час и 0.5 часа, то есть 30 минут). Число часов точно меньше 24.\n",
    "<br>\n",
    "__Вывод:__ hh:mm (часы:минуты).\n",
    "\n"
   ]
  },
  {
   "cell_type": "code",
   "execution_count": null,
   "metadata": {
    "collapsed": false
   },
   "outputs": [],
   "source": []
  },
  {
   "cell_type": "markdown",
   "metadata": {
    "ExecuteTime": {
     "end_time": "2018-07-23T14:16:20.925801Z",
     "start_time": "2018-07-23T14:16:20.919099Z"
    }
   },
   "source": [
    "##### 2. (2 балла) \n",
    "\n",
    "Электронные часы показывают время в формате hh:mm:ss, то есть сначала записывается обязательно двузначное количество часов, потом обязательно двузначное количество минут, затем обязательно двузначное количество секунд. \n",
    "\n",
    "С начала суток прошло N секунд. Выведите, что покажут часы. В N точно меньше 24 часов."
   ]
  },
  {
   "cell_type": "code",
   "execution_count": null,
   "metadata": {
    "collapsed": false
   },
   "outputs": [],
   "source": []
  },
  {
   "cell_type": "markdown",
   "metadata": {},
   "source": [
    "##### 3. (2 балла) \n",
    "\n",
    "На вход даются числа a, b, натуральные, a < b. Задача вывести числа Фибоначчи с номерами от a до b. [Число Фибоначчи](https://ru.wikipedia.org/wiki/Числа_Фибоначчи)"
   ]
  },
  {
   "cell_type": "code",
   "execution_count": null,
   "metadata": {
    "collapsed": false
   },
   "outputs": [],
   "source": []
  },
  {
   "cell_type": "markdown",
   "metadata": {
    "ExecuteTime": {
     "end_time": "2018-07-23T14:23:25.025372Z",
     "start_time": "2018-07-23T14:23:25.012927Z"
    }
   },
   "source": [
    "##### 4. (1 балл) \n",
    "\n",
    "На вход вам приходит строка, в которой буква h встречается минимум два раза. Выведите эту строку без первого и последнего вхождение буквы h, а также без всех символов, находящихся между ними."
   ]
  },
  {
   "cell_type": "code",
   "execution_count": null,
   "metadata": {
    "collapsed": false
   },
   "outputs": [],
   "source": []
  },
  {
   "cell_type": "markdown",
   "metadata": {},
   "source": [
    "##### 5. (блиц, 3 балла) \n",
    "\n",
    "Сколько различных слов в стихотворении poem?"
   ]
  },
  {
   "cell_type": "code",
   "execution_count": 6,
   "metadata": {
    "ExecuteTime": {
     "end_time": "2018-07-23T14:25:44.978833Z",
     "start_time": "2018-07-23T14:25:44.975002Z"
    },
    "collapsed": true
   },
   "outputs": [],
   "source": []
  }
 ],
 "metadata": {
  "kernelspec": {
   "display_name": "Python 3",
   "language": "python",
   "name": "python3"
  },
  "language_info": {
   "codemirror_mode": {
    "name": "ipython",
    "version": 3
   },
   "file_extension": ".py",
   "mimetype": "text/x-python",
   "name": "python",
   "nbconvert_exporter": "python",
   "pygments_lexer": "ipython3",
   "version": "3.6.3"
  }
 },
 "nbformat": 4,
 "nbformat_minor": 2
}
