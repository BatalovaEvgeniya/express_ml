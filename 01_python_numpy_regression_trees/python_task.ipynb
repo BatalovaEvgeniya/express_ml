{
 "cells": [
  {
   "cell_type": "markdown",
   "metadata": {
    "ExecuteTime": {
     "end_time": "2018-07-23T14:15:49.812245Z",
     "start_time": "2018-07-23T14:15:49.799852Z"
    }
   },
   "source": [
    "##### 1. (2 балла) \n",
    "\n",
    "На вход вам приходит вещественное число, обозначающее время, которое необходимо потратить на задачу (создайте для этого переменную duration). Выведите, сколько времени уйдет, чтобы выполнить 3 такие задачи.\n",
    "Ввод: вещественное число, которое обозначает количество часов (нецелое, например 1.5 -значит 1 час и 0.5 часа, то есть 30 минут) Вывод: hh:mm (часы:минуты)"
   ]
  },
  {
   "cell_type": "code",
   "execution_count": 1,
   "metadata": {
    "collapsed": false
   },
   "outputs": [
    {
     "data": {
      "text/plain": [
       "'04:30'"
      ]
     },
     "execution_count": 1,
     "metadata": {},
     "output_type": "execute_result"
    }
   ],
   "source": [
    "# Нужно ли конвертить в дни (месяцы, годы..), если часов > 24.\n",
    "\n",
    "duration = 1.5\n",
    "\n",
    "duration_total = duration * 3\n",
    "num_hours = int(duration_total)\n",
    "num_minutes = (duration_total - num_hours) * 60\n",
    "\n",
    "\"%02d:%02d\" % (num_hours, num_minutes)"
   ]
  },
  {
   "cell_type": "markdown",
   "metadata": {
    "ExecuteTime": {
     "end_time": "2018-07-23T14:16:20.925801Z",
     "start_time": "2018-07-23T14:16:20.919099Z"
    }
   },
   "source": [
    "##### 2. (2 балла) \n",
    "\n",
    "Электронные часы показывают время в формате hh:mm:ss, то есть сначала записывается количество часов, потом обязательно двузначное количество минут, затем обязательно двузначное количество секунд. С начала суток прошло N секунд. Выведите, что покажут часы. "
   ]
  },
  {
   "cell_type": "code",
   "execution_count": 2,
   "metadata": {
    "collapsed": false
   },
   "outputs": [
    {
     "data": {
      "text/plain": [
       "'04:02:01'"
      ]
     },
     "execution_count": 2,
     "metadata": {},
     "output_type": "execute_result"
    }
   ],
   "source": [
    "# Я предположила, что число часов также всегда двузначное (в условии не указано).\n",
    "# Предполагаем, что часы работают корректно и в N < 24 часов.\n",
    "\n",
    "N = 14521\n",
    "\n",
    "num_hours = N // (60**2)\n",
    "num_minutes = (N % 60**2) // 60\n",
    "num_seconds = N % 60\n",
    "\n",
    "\"%02d:%02d:%02d\" % (num_hours, num_minutes, num_seconds)"
   ]
  },
  {
   "cell_type": "code",
   "execution_count": 3,
   "metadata": {
    "collapsed": false
   },
   "outputs": [],
   "source": [
    "# Для самопроверки.\n",
    "\n",
    "assert num_hours*60*60+num_minutes*60+num_seconds == N"
   ]
  },
  {
   "cell_type": "markdown",
   "metadata": {},
   "source": [
    "##### 3. (2 балла) \n",
    "\n",
    "На вход даются числа a, b, натуральные, a < b. Задача вывести числа Фибоначчи с номерами от a до b. [Число Фибоначчи](https://ru.wikipedia.org/wiki/Числа_Фибоначчи)"
   ]
  },
  {
   "cell_type": "code",
   "execution_count": 4,
   "metadata": {
    "collapsed": false
   },
   "outputs": [
    {
     "data": {
      "text/plain": [
       "[0,\n",
       " 1,\n",
       " 1,\n",
       " 2,\n",
       " 3,\n",
       " 5,\n",
       " 8,\n",
       " 13,\n",
       " 21,\n",
       " 34,\n",
       " 55,\n",
       " 89,\n",
       " 144,\n",
       " 233,\n",
       " 377,\n",
       " 610,\n",
       " 987,\n",
       " 1597,\n",
       " 2584,\n",
       " 4181,\n",
       " 6765]"
      ]
     },
     "execution_count": 4,
     "metadata": {},
     "output_type": "execute_result"
    }
   ],
   "source": [
    "# Считаем первыми числами Фибоначчи 0 и 1 (не 1 и 1).\n",
    "# Я использую заполнение массива, тогда вычислительная сложность O(n). \n",
    "# Чтобы не занимать память, храню только два последних числа и числа с номером от A.\n",
    "# Также можно пользоваться формулой Бине.\n",
    "# Рекурсивный вариант -- плохой, т.к. вычислительная сложность O(2**n).\n",
    "\n",
    "def get_fib(lower, upper):\n",
    "    \n",
    "    last_two_fibs = []\n",
    "    res_fibs = []\n",
    "    \n",
    "    for i in range(upper):\n",
    "        \n",
    "        if i == 0:\n",
    "            new_fib = 0\n",
    "            last_two_fibs.append(new_fib)\n",
    "        elif i == 1:\n",
    "            new_fib = 1\n",
    "            last_two_fibs.append(new_fib)\n",
    "        else:\n",
    "            new_fib = sum(last_two_fibs)\n",
    "            last_two_fibs[0] = last_two_fibs[1]\n",
    "            last_two_fibs[1] = new_fib\n",
    "\n",
    "        if i >= lower-1:\n",
    "            res_fibs.append(new_fib)\n",
    "\n",
    "    return res_fibs\n",
    "\n",
    "get_fib(1, 21)"
   ]
  },
  {
   "cell_type": "markdown",
   "metadata": {
    "ExecuteTime": {
     "end_time": "2018-07-23T14:23:25.025372Z",
     "start_time": "2018-07-23T14:23:25.012927Z"
    }
   },
   "source": [
    "##### 4. (1 балл) \n",
    "\n",
    "На вход вам приходит строка, в которой буква h встречается минимум два раза. Выведите эту строку без первого и последнего вхождение буквы h, а также без всех символов, находящихся между ними."
   ]
  },
  {
   "cell_type": "code",
   "execution_count": 5,
   "metadata": {
    "collapsed": false
   },
   "outputs": [
    {
     "data": {
      "text/plain": [
       "'ksfklkljkvs'"
      ]
     },
     "execution_count": 5,
     "metadata": {},
     "output_type": "execute_result"
    }
   ],
   "source": [
    "s = 'ksfklhrgjheriohgkjerhkljkvs'\n",
    "\n",
    "h_first, h_last = s.find('h'), s.rfind('h')\n",
    "s[: h_first] + s[h_last + 1 :]"
   ]
  },
  {
   "cell_type": "markdown",
   "metadata": {},
   "source": [
    "##### 5. (блиц, 3 балла) \n",
    "\n",
    "Сколько различных слов в стихотворении poem?"
   ]
  },
  {
   "cell_type": "code",
   "execution_count": 6,
   "metadata": {
    "collapsed": true
   },
   "outputs": [],
   "source": [
    "# Что делать с апострофом can't.\n",
    "# Мы не хотим разедлять cat't на can и t. \n",
    "# При этом, в каком-то тексте у нас может быть случай, \n",
    "# где слово употреблено дважды, в окружении одинарных кавычек и без, и мы хотим их сматчить.\n",
    "# Можно было бы регуляркой находить именно слова с апострофами, но я этого не сделала.\n",
    "# Также спорно, считать ли \"5\" словом."
   ]
  },
  {
   "cell_type": "code",
   "execution_count": 7,
   "metadata": {
    "ExecuteTime": {
     "end_time": "2018-07-23T14:25:44.978833Z",
     "start_time": "2018-07-23T14:25:44.975002Z"
    },
    "collapsed": true
   },
   "outputs": [],
   "source": [
    "poem = \"\"\"5 little piges.\n",
    "This little pig went to market,\n",
    "This little pig stayed at home,\n",
    "This little pig had roast beef,\n",
    "And this little pig had none,\n",
    "This little pig said, \"Wee, wee, wee!\n",
    "I can't find my way home.\"\"\""
   ]
  },
  {
   "cell_type": "code",
   "execution_count": 8,
   "metadata": {
    "collapsed": false
   },
   "outputs": [
    {
     "data": {
      "text/plain": [
       "23"
      ]
     },
     "execution_count": 8,
     "metadata": {},
     "output_type": "execute_result"
    }
   ],
   "source": [
    "import re\n",
    "len(set(re.findall(r'[0-9A-Za-z\\']+', poem.lower())))"
   ]
  },
  {
   "cell_type": "code",
   "execution_count": 9,
   "metadata": {
    "collapsed": false
   },
   "outputs": [
    {
     "data": {
      "text/plain": [
       "23"
      ]
     },
     "execution_count": 9,
     "metadata": {},
     "output_type": "execute_result"
    }
   ],
   "source": [
    "# Без регулярок.\n",
    "\n",
    "unique_words = set()\n",
    "\n",
    "cur_word = ''\n",
    "for ch in poem:\n",
    "    if ch.isalnum() or ch == \"\\'\":\n",
    "        cur_word += ch.lower()\n",
    "    else:\n",
    "        if cur_word:\n",
    "            unique_words.update([cur_word])\n",
    "        cur_word = ''\n",
    "len(unique_words)"
   ]
  },
  {
   "cell_type": "code",
   "execution_count": null,
   "metadata": {
    "collapsed": true
   },
   "outputs": [],
   "source": []
  }
 ],
 "metadata": {
  "kernelspec": {
   "display_name": "Python 3",
   "language": "python",
   "name": "python3"
  },
  "language_info": {
   "codemirror_mode": {
    "name": "ipython",
    "version": 3
   },
   "file_extension": ".py",
   "mimetype": "text/x-python",
   "name": "python",
   "nbconvert_exporter": "python",
   "pygments_lexer": "ipython3",
   "version": "3.6.3"
  }
 },
 "nbformat": 4,
 "nbformat_minor": 2
}
